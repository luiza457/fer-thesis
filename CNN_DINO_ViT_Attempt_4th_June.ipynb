{
  "cells": [
    {
      "cell_type": "code",
      "execution_count": null,
      "id": "M-mKlrracFdV",
      "metadata": {
        "colab": {
          "base_uri": "https://localhost:8080/",
          "height": 36
        },
        "id": "M-mKlrracFdV",
        "outputId": "17885962-e3e2-4426-fc8e-21e1afc87286"
      },
      "outputs": [
        {
          "output_type": "execute_result",
          "data": {
            "text/plain": [
              "'pip install kaggle'"
            ],
            "application/vnd.google.colaboratory.intrinsic+json": {
              "type": "string"
            }
          },
          "metadata": {},
          "execution_count": 15
        }
      ],
      "source": [
        "\"\"\"pip install kaggle\"\"\""
      ]
    },
    {
      "cell_type": "code",
      "execution_count": null,
      "id": "u6caeTmVcHnt",
      "metadata": {
        "colab": {
          "base_uri": "https://localhost:8080/"
        },
        "id": "u6caeTmVcHnt",
        "outputId": "68c3a38a-3d14-4332-8880-3b25fe7ee852"
      },
      "outputs": [
        {
          "output_type": "stream",
          "name": "stdout",
          "text": [
            "Path to dataset files: /kaggle/input/raf-db-dataset\n"
          ]
        }
      ],
      "source": [
        "import kagglehub\n",
        "\n",
        "# Download latest version\n",
        "path = kagglehub.dataset_download(\"shuvoalok/raf-db-dataset\")\n",
        "\n",
        "print(\"Path to dataset files:\", path)"
      ]
    },
    {
      "cell_type": "code",
      "execution_count": null,
      "id": "803696ef",
      "metadata": {
        "id": "803696ef"
      },
      "outputs": [],
      "source": [
        "import torch\n",
        "import torch.nn.functional as F\n",
        "import numpy as np\n",
        "from sklearn.utils.class_weight import compute_class_weight\n",
        "import torch.nn as nn\n",
        "from torch.utils.data import DataLoader\n",
        "from torchvision import datasets, transforms\n",
        "from transformers import ResNetModel, ViTModel\n",
        "from tqdm import tqdm\n",
        "import matplotlib.pyplot as plt\n",
        "import os\n",
        "from torch.optim.lr_scheduler import ReduceLROnPlateau"
      ]
    },
    {
      "cell_type": "code",
      "execution_count": null,
      "id": "027c3732",
      "metadata": {
        "colab": {
          "base_uri": "https://localhost:8080/"
        },
        "id": "027c3732",
        "outputId": "5ceac5f8-79b3-449b-8229-7be33555647d"
      },
      "outputs": [
        {
          "output_type": "stream",
          "name": "stderr",
          "text": [
            "Some weights of ViTModel were not initialized from the model checkpoint at facebook/dino-vitb16 and are newly initialized: ['pooler.dense.bias', 'pooler.dense.weight']\n",
            "You should probably TRAIN this model on a down-stream task to be able to use it for predictions and inference.\n"
          ]
        }
      ],
      "source": [
        "# Load ResNet-18 (pretrained)\n",
        "import timm\n",
        "cnn = timm.create_model('resnet18.a1_in1k', pretrained=True)\n",
        "\n",
        "# Unfreeze last block of ResNet\n",
        "for name, param in cnn.named_parameters():\n",
        "    if \"layer4\" in name or \"fc\" in name:\n",
        "        param.requires_grad = True\n",
        "    else:\n",
        "        param.requires_grad = False\n",
        "\n",
        "# Load DINO-ViT (pretrained)\n",
        "vit = ViTModel.from_pretrained(\"facebook/dino-vitb16\", use_safetensors=True)\n",
        "\n",
        "# Unfreeze all layers\n",
        "for param in vit.parameters():\n",
        "    param.requires_grad = True"
      ]
    },
    {
      "cell_type": "code",
      "execution_count": null,
      "id": "196e4814",
      "metadata": {
        "id": "196e4814"
      },
      "outputs": [],
      "source": [
        "class CNNtoViT(nn.Module):\n",
        "    def __init__(self, cnn, vit):\n",
        "        super().__init__()\n",
        "        self.cnn = cnn\n",
        "        self.vit = vit\n",
        "        self.project = nn.Linear(512, 768)\n",
        "\n",
        "    def forward(self, x):\n",
        "       # [B, 512, 7, 7]\n",
        "        cnn_out = self.cnn.forward_features(x)  # timm-specific feature extractor\n",
        "        b, c, h, w = cnn_out.shape\n",
        "         # [B, 49, 512]\n",
        "        cnn_flat = cnn_out.view(b, c, h * w).permute(0, 2, 1)\n",
        "        # [B, 49, 768]\n",
        "        projected = self.project(cnn_flat)\n",
        "\n",
        "        cls_token = self.vit.embeddings.cls_token.expand(b, -1, -1)\n",
        "         # [B, 50, 768]\n",
        "        x = torch.cat((cls_token, projected), dim=1)\n",
        "        x = x + self.vit.embeddings.position_embeddings[:, :x.size(1), :]\n",
        "        x = self.vit.embeddings.dropout(x)\n",
        "        x = self.vit.encoder(x)\n",
        "         # CLS token\n",
        "        return x.last_hidden_state[:, 0, :]"
      ]
    },
    {
      "cell_type": "code",
      "execution_count": null,
      "id": "7d5436fd",
      "metadata": {
        "id": "7d5436fd"
      },
      "outputs": [],
      "source": [
        "class FullModel(nn.Module):\n",
        "    def __init__(self, cnn, vit, num_classes=7):\n",
        "        super().__init__()\n",
        "        self.backbone = CNNtoViT(cnn, vit)\n",
        "        self.classifier = nn.Sequential(\n",
        "                    nn.Linear(768, 256),\n",
        "                    nn.ReLU(),\n",
        "                    nn.Dropout(0.5), #increased dropout\n",
        "                    nn.Linear(256, num_classes)\n",
        "                )\n",
        "\n",
        "\n",
        "    def forward(self, x):\n",
        "        features = self.backbone(x)\n",
        "        return self.classifier(features)\n",
        "\n",
        "model = FullModel(cnn, vit)"
      ]
    },
    {
      "cell_type": "code",
      "source": [
        "class FocalLoss(nn.Module):\n",
        "    def __init__(self, gamma=2.0, alpha=None):\n",
        "        super().__init__()\n",
        "        self.gamma = gamma\n",
        "        self.alpha = alpha\n",
        "\n",
        "    def forward(self, inputs, targets):\n",
        "        logp = F.log_softmax(inputs, dim=1)\n",
        "        p = torch.exp(logp)\n",
        "        logp = logp.gather(1, targets.unsqueeze(1)).squeeze(1)\n",
        "        p = p.gather(1, targets.unsqueeze(1)).squeeze(1)\n",
        "        loss = -(1 - p) ** self.gamma * logp\n",
        "\n",
        "        if self.alpha is not None:\n",
        "            alpha = self.alpha[targets]\n",
        "            loss *= alpha\n",
        "\n",
        "        return loss.mean()"
      ],
      "metadata": {
        "id": "IZkwfSJAZ4m2"
      },
      "id": "IZkwfSJAZ4m2",
      "execution_count": null,
      "outputs": []
    },
    {
      "cell_type": "code",
      "source": [
        "\"\"\"from torchviz import make_dot\n",
        "dummy_input = torch.randn(1, 3, 224, 224)\n",
        "output = model(dummy_input)\n",
        "\n",
        "make_dot(output, params=dict(model.named_parameters())).render(\"model_architecture\", format=\"png\")\"\"\""
      ],
      "metadata": {
        "colab": {
          "base_uri": "https://localhost:8080/",
          "height": 53
        },
        "id": "080j6RywqsW0",
        "outputId": "2d3b8c22-917f-4462-9e01-a03404fb5ac2"
      },
      "id": "080j6RywqsW0",
      "execution_count": null,
      "outputs": [
        {
          "output_type": "execute_result",
          "data": {
            "text/plain": [
              "'from torchviz import make_dot\\ndummy_input = torch.randn(1, 3, 224, 224)\\noutput = model(dummy_input)\\n\\nmake_dot(output, params=dict(model.named_parameters())).render(\"model_architecture\", format=\"png\")'"
            ],
            "application/vnd.google.colaboratory.intrinsic+json": {
              "type": "string"
            }
          },
          "metadata": {},
          "execution_count": 22
        }
      ]
    },
    {
      "cell_type": "code",
      "source": [
        "\"\"\"print(model)\"\"\""
      ],
      "metadata": {
        "colab": {
          "base_uri": "https://localhost:8080/",
          "height": 36
        },
        "id": "76rw0DtKsp9w",
        "outputId": "1e724245-06e1-4576-cbb2-08e64418b556"
      },
      "id": "76rw0DtKsp9w",
      "execution_count": null,
      "outputs": [
        {
          "output_type": "execute_result",
          "data": {
            "text/plain": [
              "'print(model)'"
            ],
            "application/vnd.google.colaboratory.intrinsic+json": {
              "type": "string"
            }
          },
          "metadata": {},
          "execution_count": 23
        }
      ]
    },
    {
      "cell_type": "code",
      "execution_count": null,
      "id": "4dbf3a4c",
      "metadata": {
        "id": "4dbf3a4c",
        "colab": {
          "base_uri": "https://localhost:8080/"
        },
        "outputId": "06bcf4c7-a325-4d73-b569-fa5790ac8c2b"
      },
      "outputs": [
        {
          "output_type": "stream",
          "name": "stdout",
          "text": [
            "Classes: ['1', '2', '3', '4', '5', '6', '7']\n"
          ]
        }
      ],
      "source": [
        "from torchvision.datasets import ImageFolder\n",
        "from torch.utils.data import DataLoader, random_split\n",
        "from torchvision import transforms\n",
        "\n",
        "transform = transforms.Compose([\n",
        "    transforms.RandomResizedCrop(224, scale=(0.8, 1.0)),\n",
        "    transforms.RandomHorizontalFlip(),\n",
        "    transforms.RandomRotation(15), # Slightly more rotation\n",
        "    transforms.ColorJitter(brightness=0.2, contrast=0.2, saturation=0.2, hue=0.1),\n",
        "    transforms.ToTensor(),\n",
        "    transforms.Normalize([0.5]*3, [0.5]*3),\n",
        "    transforms.RandomErasing(p=0.5, scale=(0.02, 0.2), ratio=(0.3, 3.3), value=0, inplace=False)\n",
        "])\n",
        "\n",
        "# Load from folders: train/1/, train/2/, ..., test/1/, etc.\n",
        "train_dataset = ImageFolder(root=\"/kaggle/input/raf-db-dataset/DATASET/train\", transform=transform)\n",
        "test_dataset = ImageFolder(root=\"/kaggle/input/raf-db-dataset/DATASET/test\", transform=transform)\n",
        "\n",
        "# Split train into train/val\n",
        "train_size = int(0.9 * len(train_dataset))\n",
        "val_size = len(train_dataset) - train_size\n",
        "generator = torch.Generator().manual_seed(42)\n",
        "train_data, val_data = random_split(train_dataset, [train_size, val_size], generator=generator)\n",
        "\n",
        "# DataLoaders\n",
        "train_loader = DataLoader(train_data, batch_size=32, shuffle=True)\n",
        "val_loader = DataLoader(val_data, batch_size=32)\n",
        "test_loader = DataLoader(test_dataset, batch_size=32)\n",
        "\n",
        "print(\"Classes:\", train_dataset.classes)"
      ]
    },
    {
      "cell_type": "code",
      "execution_count": null,
      "id": "c2e3d105",
      "metadata": {
        "colab": {
          "base_uri": "https://localhost:8080/"
        },
        "id": "c2e3d105",
        "outputId": "646fd269-deff-4333-9c0b-aab8c1286957"
      },
      "outputs": [
        {
          "output_type": "stream",
          "name": "stdout",
          "text": [
            "Starting Training...\n"
          ]
        },
        {
          "output_type": "stream",
          "name": "stderr",
          "text": [
            "Epoch 1/40 - Training: 100%|██████████| 346/346 [03:06<00:00,  1.85it/s]\n"
          ]
        },
        {
          "output_type": "stream",
          "name": "stdout",
          "text": [
            "Epoch 1/40 | Train Loss: 1.6498 | Train Acc: 41.50% | Val Loss: 1.4709 | Val Acc: 51.06%\n",
            "Learning Rate: 0.000100\n",
            "New best model saved at epoch 1 with Val Acc: 51.06%\n"
          ]
        },
        {
          "output_type": "stream",
          "name": "stderr",
          "text": [
            "Epoch 2/40 - Training: 100%|██████████| 346/346 [03:09<00:00,  1.82it/s]\n"
          ]
        },
        {
          "output_type": "stream",
          "name": "stdout",
          "text": [
            "Epoch 2/40 | Train Loss: 1.4749 | Train Acc: 50.47% | Val Loss: 1.3986 | Val Acc: 53.66%\n",
            "Learning Rate: 0.000100\n",
            "New best model saved at epoch 2 with Val Acc: 53.66%\n"
          ]
        },
        {
          "output_type": "stream",
          "name": "stderr",
          "text": [
            "Epoch 3/40 - Training: 100%|██████████| 346/346 [03:11<00:00,  1.81it/s]\n"
          ]
        },
        {
          "output_type": "stream",
          "name": "stdout",
          "text": [
            "Epoch 3/40 | Train Loss: 1.3927 | Train Acc: 55.36% | Val Loss: 1.3616 | Val Acc: 56.27%\n",
            "Learning Rate: 0.000100\n",
            "New best model saved at epoch 3 with Val Acc: 56.27%\n"
          ]
        },
        {
          "output_type": "stream",
          "name": "stderr",
          "text": [
            "Epoch 4/40 - Training: 100%|██████████| 346/346 [03:11<00:00,  1.81it/s]\n"
          ]
        },
        {
          "output_type": "stream",
          "name": "stdout",
          "text": [
            "Epoch 4/40 | Train Loss: 1.3416 | Train Acc: 57.45% | Val Loss: 1.3057 | Val Acc: 59.53%\n",
            "Learning Rate: 0.000100\n",
            "New best model saved at epoch 4 with Val Acc: 59.53%\n"
          ]
        },
        {
          "output_type": "stream",
          "name": "stderr",
          "text": [
            "Epoch 5/40 - Training: 100%|██████████| 346/346 [03:13<00:00,  1.79it/s]\n"
          ]
        },
        {
          "output_type": "stream",
          "name": "stdout",
          "text": [
            "Epoch 5/40 | Train Loss: 1.3061 | Train Acc: 59.03% | Val Loss: 1.2846 | Val Acc: 61.16%\n",
            "Learning Rate: 0.000100\n",
            "New best model saved at epoch 5 with Val Acc: 61.16%\n"
          ]
        },
        {
          "output_type": "stream",
          "name": "stderr",
          "text": [
            "Epoch 6/40 - Training: 100%|██████████| 346/346 [03:13<00:00,  1.79it/s]\n"
          ]
        },
        {
          "output_type": "stream",
          "name": "stdout",
          "text": [
            "Epoch 6/40 | Train Loss: 1.2654 | Train Acc: 61.56% | Val Loss: 1.2662 | Val Acc: 60.75%\n",
            "Learning Rate: 0.000100\n"
          ]
        },
        {
          "output_type": "stream",
          "name": "stderr",
          "text": [
            "Epoch 7/40 - Training: 100%|██████████| 346/346 [03:12<00:00,  1.80it/s]\n"
          ]
        },
        {
          "output_type": "stream",
          "name": "stdout",
          "text": [
            "Epoch 7/40 | Train Loss: 1.2388 | Train Acc: 63.07% | Val Loss: 1.2337 | Val Acc: 63.19%\n",
            "Learning Rate: 0.000100\n",
            "New best model saved at epoch 7 with Val Acc: 63.19%\n"
          ]
        },
        {
          "output_type": "stream",
          "name": "stderr",
          "text": [
            "Epoch 8/40 - Training: 100%|██████████| 346/346 [03:11<00:00,  1.80it/s]\n"
          ]
        },
        {
          "output_type": "stream",
          "name": "stdout",
          "text": [
            "Epoch 8/40 | Train Loss: 1.2267 | Train Acc: 63.58% | Val Loss: 1.2133 | Val Acc: 63.03%\n",
            "Learning Rate: 0.000100\n"
          ]
        },
        {
          "output_type": "stream",
          "name": "stderr",
          "text": [
            "Epoch 9/40 - Training: 100%|██████████| 346/346 [03:12<00:00,  1.80it/s]\n"
          ]
        },
        {
          "output_type": "stream",
          "name": "stdout",
          "text": [
            "Epoch 9/40 | Train Loss: 1.1967 | Train Acc: 65.08% | Val Loss: 1.1901 | Val Acc: 65.96%\n",
            "Learning Rate: 0.000100\n",
            "New best model saved at epoch 9 with Val Acc: 65.96%\n"
          ]
        },
        {
          "output_type": "stream",
          "name": "stderr",
          "text": [
            "Epoch 10/40 - Training: 100%|██████████| 346/346 [03:12<00:00,  1.79it/s]\n"
          ]
        },
        {
          "output_type": "stream",
          "name": "stdout",
          "text": [
            "Epoch 10/40 | Train Loss: 1.1748 | Train Acc: 65.84% | Val Loss: 1.2173 | Val Acc: 63.84%\n",
            "Learning Rate: 0.000100\n"
          ]
        },
        {
          "output_type": "stream",
          "name": "stderr",
          "text": [
            "Epoch 11/40 - Training: 100%|██████████| 346/346 [03:13<00:00,  1.79it/s]\n"
          ]
        },
        {
          "output_type": "stream",
          "name": "stdout",
          "text": [
            "Epoch 11/40 | Train Loss: 1.1596 | Train Acc: 66.66% | Val Loss: 1.1706 | Val Acc: 66.04%\n",
            "Learning Rate: 0.000100\n",
            "New best model saved at epoch 11 with Val Acc: 66.04%\n"
          ]
        },
        {
          "output_type": "stream",
          "name": "stderr",
          "text": [
            "Epoch 12/40 - Training: 100%|██████████| 346/346 [03:14<00:00,  1.78it/s]\n"
          ]
        },
        {
          "output_type": "stream",
          "name": "stdout",
          "text": [
            "Epoch 12/40 | Train Loss: 1.1477 | Train Acc: 67.20% | Val Loss: 1.1747 | Val Acc: 66.12%\n",
            "Learning Rate: 0.000100\n",
            "New best model saved at epoch 12 with Val Acc: 66.12%\n"
          ]
        },
        {
          "output_type": "stream",
          "name": "stderr",
          "text": [
            "Epoch 13/40 - Training: 100%|██████████| 346/346 [03:14<00:00,  1.78it/s]\n"
          ]
        },
        {
          "output_type": "stream",
          "name": "stdout",
          "text": [
            "Epoch 13/40 | Train Loss: 1.1325 | Train Acc: 68.05% | Val Loss: 1.1453 | Val Acc: 67.43%\n",
            "Learning Rate: 0.000100\n",
            "New best model saved at epoch 13 with Val Acc: 67.43%\n"
          ]
        },
        {
          "output_type": "stream",
          "name": "stderr",
          "text": [
            "Epoch 14/40 - Training: 100%|██████████| 346/346 [03:14<00:00,  1.78it/s]\n"
          ]
        },
        {
          "output_type": "stream",
          "name": "stdout",
          "text": [
            "Epoch 14/40 | Train Loss: 1.1134 | Train Acc: 68.74% | Val Loss: 1.1556 | Val Acc: 66.53%\n",
            "Learning Rate: 0.000100\n"
          ]
        },
        {
          "output_type": "stream",
          "name": "stderr",
          "text": [
            "Epoch 15/40 - Training: 100%|██████████| 346/346 [03:12<00:00,  1.79it/s]\n"
          ]
        },
        {
          "output_type": "stream",
          "name": "stdout",
          "text": [
            "Epoch 15/40 | Train Loss: 1.1058 | Train Acc: 69.08% | Val Loss: 1.1355 | Val Acc: 67.75%\n",
            "Learning Rate: 0.000100\n",
            "New best model saved at epoch 15 with Val Acc: 67.75%\n"
          ]
        },
        {
          "output_type": "stream",
          "name": "stderr",
          "text": [
            "Epoch 16/40 - Training: 100%|██████████| 346/346 [03:12<00:00,  1.79it/s]\n"
          ]
        },
        {
          "output_type": "stream",
          "name": "stdout",
          "text": [
            "Epoch 16/40 | Train Loss: 1.0954 | Train Acc: 69.87% | Val Loss: 1.1547 | Val Acc: 66.61%\n",
            "Learning Rate: 0.000100\n"
          ]
        },
        {
          "output_type": "stream",
          "name": "stderr",
          "text": [
            "Epoch 17/40 - Training: 100%|██████████| 346/346 [03:13<00:00,  1.79it/s]\n"
          ]
        },
        {
          "output_type": "stream",
          "name": "stdout",
          "text": [
            "Epoch 17/40 | Train Loss: 1.0832 | Train Acc: 70.01% | Val Loss: 1.1326 | Val Acc: 68.08%\n",
            "Learning Rate: 0.000100\n",
            "New best model saved at epoch 17 with Val Acc: 68.08%\n"
          ]
        },
        {
          "output_type": "stream",
          "name": "stderr",
          "text": [
            "Epoch 18/40 - Training: 100%|██████████| 346/346 [03:12<00:00,  1.80it/s]\n"
          ]
        },
        {
          "output_type": "stream",
          "name": "stdout",
          "text": [
            "Epoch 18/40 | Train Loss: 1.0682 | Train Acc: 71.02% | Val Loss: 1.1453 | Val Acc: 67.35%\n",
            "Learning Rate: 0.000100\n"
          ]
        },
        {
          "output_type": "stream",
          "name": "stderr",
          "text": [
            "Epoch 19/40 - Training: 100%|██████████| 346/346 [03:12<00:00,  1.80it/s]\n"
          ]
        },
        {
          "output_type": "stream",
          "name": "stdout",
          "text": [
            "Epoch 19/40 | Train Loss: 1.0532 | Train Acc: 71.28% | Val Loss: 1.1250 | Val Acc: 68.57%\n",
            "Learning Rate: 0.000100\n",
            "New best model saved at epoch 19 with Val Acc: 68.57%\n"
          ]
        },
        {
          "output_type": "stream",
          "name": "stderr",
          "text": [
            "Epoch 20/40 - Training: 100%|██████████| 346/346 [03:13<00:00,  1.78it/s]\n"
          ]
        },
        {
          "output_type": "stream",
          "name": "stdout",
          "text": [
            "Epoch 20/40 | Train Loss: 1.0611 | Train Acc: 71.59% | Val Loss: 1.0995 | Val Acc: 68.49%\n",
            "Learning Rate: 0.000100\n"
          ]
        },
        {
          "output_type": "stream",
          "name": "stderr",
          "text": [
            "Epoch 21/40 - Training: 100%|██████████| 346/346 [03:12<00:00,  1.80it/s]\n"
          ]
        },
        {
          "output_type": "stream",
          "name": "stdout",
          "text": [
            "Epoch 21/40 | Train Loss: 1.0394 | Train Acc: 72.00% | Val Loss: 1.0949 | Val Acc: 68.49%\n",
            "Learning Rate: 0.000100\n"
          ]
        },
        {
          "output_type": "stream",
          "name": "stderr",
          "text": [
            "Epoch 22/40 - Training: 100%|██████████| 346/346 [03:10<00:00,  1.81it/s]\n"
          ]
        },
        {
          "output_type": "stream",
          "name": "stdout",
          "text": [
            "Epoch 22/40 | Train Loss: 1.0337 | Train Acc: 73.14% | Val Loss: 1.1229 | Val Acc: 68.00%\n",
            "Learning Rate: 0.000100\n"
          ]
        },
        {
          "output_type": "stream",
          "name": "stderr",
          "text": [
            "Epoch 23/40 - Training: 100%|██████████| 346/346 [03:11<00:00,  1.81it/s]\n"
          ]
        },
        {
          "output_type": "stream",
          "name": "stdout",
          "text": [
            "Epoch 23/40 | Train Loss: 1.0306 | Train Acc: 73.27% | Val Loss: 1.0839 | Val Acc: 69.63%\n",
            "Learning Rate: 0.000100\n",
            "New best model saved at epoch 23 with Val Acc: 69.63%\n"
          ]
        },
        {
          "output_type": "stream",
          "name": "stderr",
          "text": [
            "Epoch 24/40 - Training: 100%|██████████| 346/346 [03:12<00:00,  1.80it/s]\n"
          ]
        },
        {
          "output_type": "stream",
          "name": "stdout",
          "text": [
            "Epoch 24/40 | Train Loss: 1.0092 | Train Acc: 73.53% | Val Loss: 1.0943 | Val Acc: 69.54%\n",
            "Learning Rate: 0.000100\n"
          ]
        },
        {
          "output_type": "stream",
          "name": "stderr",
          "text": [
            "Epoch 25/40 - Training: 100%|██████████| 346/346 [03:11<00:00,  1.80it/s]\n"
          ]
        },
        {
          "output_type": "stream",
          "name": "stdout",
          "text": [
            "Epoch 25/40 | Train Loss: 1.0069 | Train Acc: 73.75% | Val Loss: 1.1179 | Val Acc: 68.97%\n",
            "Learning Rate: 0.000100\n"
          ]
        },
        {
          "output_type": "stream",
          "name": "stderr",
          "text": [
            "Epoch 26/40 - Training: 100%|██████████| 346/346 [03:14<00:00,  1.78it/s]\n"
          ]
        },
        {
          "output_type": "stream",
          "name": "stdout",
          "text": [
            "Epoch 26/40 | Train Loss: 1.0012 | Train Acc: 74.26% | Val Loss: 1.0915 | Val Acc: 68.89%\n",
            "Learning Rate: 0.000100\n"
          ]
        },
        {
          "output_type": "stream",
          "name": "stderr",
          "text": [
            "Epoch 27/40 - Training: 100%|██████████| 346/346 [03:13<00:00,  1.78it/s]\n"
          ]
        },
        {
          "output_type": "stream",
          "name": "stdout",
          "text": [
            "Epoch 27/40 | Train Loss: 0.9925 | Train Acc: 74.80% | Val Loss: 1.1283 | Val Acc: 69.46%\n",
            "Learning Rate: 0.000050\n"
          ]
        },
        {
          "output_type": "stream",
          "name": "stderr",
          "text": [
            "Epoch 28/40 - Training: 100%|██████████| 346/346 [03:14<00:00,  1.78it/s]\n"
          ]
        },
        {
          "output_type": "stream",
          "name": "stdout",
          "text": [
            "Epoch 28/40 | Train Loss: 0.9584 | Train Acc: 77.03% | Val Loss: 1.0758 | Val Acc: 70.44%\n",
            "Learning Rate: 0.000050\n",
            "New best model saved at epoch 28 with Val Acc: 70.44%\n"
          ]
        },
        {
          "output_type": "stream",
          "name": "stderr",
          "text": [
            "Epoch 29/40 - Training: 100%|██████████| 346/346 [03:13<00:00,  1.79it/s]\n"
          ]
        },
        {
          "output_type": "stream",
          "name": "stdout",
          "text": [
            "Epoch 29/40 | Train Loss: 0.9447 | Train Acc: 76.65% | Val Loss: 1.0700 | Val Acc: 72.23%\n",
            "Learning Rate: 0.000050\n",
            "New best model saved at epoch 29 with Val Acc: 72.23%\n"
          ]
        },
        {
          "output_type": "stream",
          "name": "stderr",
          "text": [
            "Epoch 30/40 - Training: 100%|██████████| 346/346 [03:15<00:00,  1.77it/s]\n"
          ]
        },
        {
          "output_type": "stream",
          "name": "stdout",
          "text": [
            "Epoch 30/40 | Train Loss: 0.9367 | Train Acc: 77.13% | Val Loss: 1.1159 | Val Acc: 69.46%\n",
            "Learning Rate: 0.000050\n"
          ]
        },
        {
          "output_type": "stream",
          "name": "stderr",
          "text": [
            "Epoch 31/40 - Training: 100%|██████████| 346/346 [03:14<00:00,  1.77it/s]\n"
          ]
        },
        {
          "output_type": "stream",
          "name": "stdout",
          "text": [
            "Epoch 31/40 | Train Loss: 0.9308 | Train Acc: 77.28% | Val Loss: 1.1258 | Val Acc: 70.28%\n",
            "Learning Rate: 0.000050\n"
          ]
        },
        {
          "output_type": "stream",
          "name": "stderr",
          "text": [
            "Epoch 32/40 - Training: 100%|██████████| 346/346 [03:14<00:00,  1.78it/s]\n"
          ]
        },
        {
          "output_type": "stream",
          "name": "stdout",
          "text": [
            "Epoch 32/40 | Train Loss: 0.9223 | Train Acc: 78.02% | Val Loss: 1.0901 | Val Acc: 70.44%\n",
            "Learning Rate: 0.000050\n"
          ]
        },
        {
          "output_type": "stream",
          "name": "stderr",
          "text": [
            "Epoch 33/40 - Training: 100%|██████████| 346/346 [03:14<00:00,  1.78it/s]\n"
          ]
        },
        {
          "output_type": "stream",
          "name": "stdout",
          "text": [
            "Epoch 33/40 | Train Loss: 0.9104 | Train Acc: 78.45% | Val Loss: 1.0939 | Val Acc: 71.01%\n",
            "Learning Rate: 0.000025\n"
          ]
        },
        {
          "output_type": "stream",
          "name": "stderr",
          "text": [
            "Epoch 34/40 - Training: 100%|██████████| 346/346 [03:15<00:00,  1.77it/s]\n"
          ]
        },
        {
          "output_type": "stream",
          "name": "stdout",
          "text": [
            "Epoch 34/40 | Train Loss: 0.8960 | Train Acc: 79.45% | Val Loss: 1.0865 | Val Acc: 70.77%\n",
            "Learning Rate: 0.000025\n"
          ]
        },
        {
          "output_type": "stream",
          "name": "stderr",
          "text": [
            "Epoch 35/40 - Training: 100%|██████████| 346/346 [03:13<00:00,  1.79it/s]\n"
          ]
        },
        {
          "output_type": "stream",
          "name": "stdout",
          "text": [
            "Epoch 35/40 | Train Loss: 0.8923 | Train Acc: 79.91% | Val Loss: 1.0773 | Val Acc: 72.07%\n",
            "Learning Rate: 0.000025\n"
          ]
        },
        {
          "output_type": "stream",
          "name": "stderr",
          "text": [
            "Epoch 36/40 - Training: 100%|██████████| 346/346 [03:14<00:00,  1.78it/s]\n"
          ]
        },
        {
          "output_type": "stream",
          "name": "stdout",
          "text": [
            "Epoch 36/40 | Train Loss: 0.8808 | Train Acc: 79.63% | Val Loss: 1.0525 | Val Acc: 72.07%\n",
            "Learning Rate: 0.000025\n"
          ]
        },
        {
          "output_type": "stream",
          "name": "stderr",
          "text": [
            "Epoch 37/40 - Training: 100%|██████████| 346/346 [03:14<00:00,  1.78it/s]\n"
          ]
        },
        {
          "output_type": "stream",
          "name": "stdout",
          "text": [
            "Epoch 37/40 | Train Loss: 0.8721 | Train Acc: 80.61% | Val Loss: 1.0873 | Val Acc: 71.34%\n",
            "Learning Rate: 0.000025\n"
          ]
        },
        {
          "output_type": "stream",
          "name": "stderr",
          "text": [
            "Epoch 38/40 - Training: 100%|██████████| 346/346 [03:16<00:00,  1.76it/s]\n"
          ]
        },
        {
          "output_type": "stream",
          "name": "stdout",
          "text": [
            "Epoch 38/40 | Train Loss: 0.8756 | Train Acc: 80.63% | Val Loss: 1.0930 | Val Acc: 71.34%\n",
            "Learning Rate: 0.000025\n"
          ]
        },
        {
          "output_type": "stream",
          "name": "stderr",
          "text": [
            "Epoch 39/40 - Training: 100%|██████████| 346/346 [03:13<00:00,  1.79it/s]\n"
          ]
        },
        {
          "output_type": "stream",
          "name": "stdout",
          "text": [
            "Epoch 39/40 | Train Loss: 0.8723 | Train Acc: 80.49% | Val Loss: 1.0816 | Val Acc: 71.99%\n",
            "Learning Rate: 0.000025\n",
            "Early stopping triggered after 10 epochs with no improvement.\n",
            "Training Finished.\n"
          ]
        }
      ],
      "source": [
        "import torch\n",
        "import torch.nn.functional as F\n",
        "import numpy as np\n",
        "from sklearn.utils.class_weight import compute_class_weight\n",
        "import torch.nn as nn\n",
        "from torch.utils.data import DataLoader\n",
        "from torchvision import datasets, transforms # Assuming these are defined elsewhere if not in this cell\n",
        "from transformers import ResNetModel, ViTModel # Assuming these are defined elsewhere if not in this cell\n",
        "from tqdm import tqdm\n",
        "import matplotlib.pyplot as plt # For plotting if you add it later\n",
        "import os\n",
        "from torch.optim.lr_scheduler import ReduceLROnPlateau\n",
        "\n",
        "# Assuming 'model', 'train_loader', 'val_loader' are already defined and loaded\n",
        "# from previous cells (e.g., model definition in 7d5436fd, data loaders in 4dbf3a4c)\n",
        "# Assuming 'cnn' and 'vit' model components are defined from cell 027c3732\n",
        "# Assuming 'FullModel' and 'CNNtoViT' classes are defined from cells 7d5436fd and 196e4814\n",
        "\n",
        "device = torch.device(\"cuda\" if torch.cuda.is_available() else \"cpu\")\n",
        "model.to(device) # Ensure model is on the correct device\n",
        "\n",
        "# Calculate class_weights and alpha (as in your original cell)\n",
        "y_train_labels = []\n",
        "# Ensure train_loader is defined and loaded from your data preparation cell (e.g., 4dbf3a4c)\n",
        "for _, labels_batch in train_loader: # Renamed 'labels' to 'labels_batch' to avoid conflict\n",
        "    y_train_labels.extend(labels_batch.numpy())\n",
        "\n",
        "y_train_labels = np.array(y_train_labels)\n",
        "\n",
        "class_weights = compute_class_weight('balanced', classes=np.unique(y_train_labels), y=y_train_labels)\n",
        "alpha = torch.tensor(class_weights, dtype=torch.float).to(device)\n",
        "\n",
        "# Define criterion - MAKE SURE THIS IS THE ONE YOU WANT (e.g., with or without weights)\n",
        "# Option 1: With class weights (recommended if classes are imbalanced)\n",
        "criterion = nn.CrossEntropyLoss(label_smoothing=0.1)\n",
        "# Option 2: Without class weights (your original if you revert)\n",
        "# criterion = nn.CrossEntropyLoss(label_smoothing=0.1)\n",
        "\n",
        "\n",
        "optimizer = torch.optim.Adam(\n",
        "    filter(lambda p: p.requires_grad, model.parameters()),\n",
        "    lr=1e-4, # Or your desired initial learning rate\n",
        "    weight_decay=1e-5 # Or your desired weight decay\n",
        ")\n",
        "scheduler = ReduceLROnPlateau(optimizer, mode='min', factor=0.5, patience=3, verbose=True)\n",
        "\n",
        "num_epochs = 40 # Your desired maximum number of epochs\n",
        "best_val_accuracy = 0.0\n",
        "save_path = \"saved_emotion_model\" # Ensure this directory exists or is created\n",
        "os.makedirs(save_path, exist_ok=True)\n",
        "\n",
        "# --- Early Stopping Initialization ---\n",
        "early_stopping_patience = 10  # Number of epochs to wait for improvement before stopping\n",
        "epochs_no_improve = 0      # Counter for epochs without improvement\n",
        "# --- End of Early Stopping Initialization ---\n",
        "\n",
        "# Training loop\n",
        "print(\"Starting Training...\")\n",
        "for epoch in range(num_epochs):\n",
        "    model.train()\n",
        "    total_train_loss = 0\n",
        "    correct_train = 0\n",
        "    total_train = 0\n",
        "\n",
        "    for images, labels in tqdm(train_loader, desc=f\"Epoch {epoch+1}/{num_epochs} - Training\"):\n",
        "        images, labels = images.to(device), labels.to(device)\n",
        "        optimizer.zero_grad()\n",
        "        outputs = model(images)\n",
        "        loss = criterion(outputs, labels)\n",
        "        loss.backward()\n",
        "        optimizer.step()\n",
        "\n",
        "        total_train_loss += loss.item()\n",
        "        _, predicted = torch.max(outputs, 1)\n",
        "        correct_train += (predicted == labels).sum().item()\n",
        "        total_train += labels.size(0)\n",
        "\n",
        "    # Validation\n",
        "    model.eval()\n",
        "    total_val_loss = 0\n",
        "    correct_val = 0\n",
        "    total_val = 0\n",
        "\n",
        "    with torch.no_grad():\n",
        "        for images, labels in val_loader: # Use a different variable name if 'labels' from training loop is in scope\n",
        "            images_val, labels_val = images.to(device), labels.to(device) # Renamed to avoid conflict\n",
        "            outputs_val = model(images_val)\n",
        "            val_loss_item = criterion(outputs_val, labels_val) # Renamed 'loss'\n",
        "            total_val_loss += val_loss_item.item()\n",
        "            _, predicted_val = torch.max(outputs_val, 1) # Renamed 'predicted'\n",
        "            correct_val += (predicted_val == labels_val).sum().item()\n",
        "            total_val += labels_val.size(0)\n",
        "\n",
        "    avg_train_loss = total_train_loss / len(train_loader)\n",
        "    avg_val_loss = total_val_loss / len(val_loader)\n",
        "    train_accuracy = 100 * correct_train / total_train\n",
        "    val_accuracy = 100 * correct_val / total_val\n",
        "\n",
        "    print(f\"Epoch {epoch+1}/{num_epochs} | \"\n",
        "          f\"Train Loss: {avg_train_loss:.4f} | Train Acc: {train_accuracy:.2f}% | \"\n",
        "          f\"Val Loss: {avg_val_loss:.4f} | Val Acc: {val_accuracy:.2f}%\")\n",
        "\n",
        "    scheduler.step(avg_val_loss)\n",
        "    current_lr = optimizer.param_groups[0]['lr']\n",
        "    print(f\"Learning Rate: {current_lr:.6f}\")\n",
        "\n",
        "    # Save best model and implement early stopping\n",
        "    if val_accuracy > best_val_accuracy:\n",
        "        best_val_accuracy = val_accuracy\n",
        "        torch.save(model.state_dict(), os.path.join(save_path, \"best_model.bin\"))\n",
        "        print(f\"New best model saved at epoch {epoch+1} with Val Acc: {val_accuracy:.2f}%\")\n",
        "        epochs_no_improve = 0  # Reset counter\n",
        "    else:\n",
        "        epochs_no_improve += 1 # Increment counter\n",
        "\n",
        "    if epochs_no_improve >= early_stopping_patience:\n",
        "        print(f\"Early stopping triggered after {epochs_no_improve} epochs with no improvement.\")\n",
        "        break  # Exit the training loop\n",
        "\n",
        "print(\"Training Finished.\")"
      ]
    },
    {
      "cell_type": "code",
      "source": [
        "save_path = \"saved_emotion_model\"\n",
        "model.load_state_dict(torch.load(os.path.join(save_path, \"best_model.bin\")))"
      ],
      "metadata": {
        "id": "vYBLlxVLiV-l",
        "colab": {
          "base_uri": "https://localhost:8080/"
        },
        "outputId": "9ef99701-fb50-4a61-e11b-2a5a7d7b1dc6"
      },
      "id": "vYBLlxVLiV-l",
      "execution_count": null,
      "outputs": [
        {
          "output_type": "execute_result",
          "data": {
            "text/plain": [
              "<All keys matched successfully>"
            ]
          },
          "metadata": {},
          "execution_count": 26
        }
      ]
    },
    {
      "cell_type": "code",
      "source": [
        "from google.colab import files\n",
        "files.download(\"saved_emotion_model/best_model.bin\")"
      ],
      "metadata": {
        "id": "VJBoPSvpbGfz",
        "colab": {
          "base_uri": "https://localhost:8080/",
          "height": 34
        },
        "outputId": "ec302b49-2f55-4a42-e225-cf6944bb8c54"
      },
      "id": "VJBoPSvpbGfz",
      "execution_count": null,
      "outputs": [
        {
          "output_type": "display_data",
          "data": {
            "text/plain": [
              "<IPython.core.display.Javascript object>"
            ],
            "application/javascript": [
              "\n",
              "    async function download(id, filename, size) {\n",
              "      if (!google.colab.kernel.accessAllowed) {\n",
              "        return;\n",
              "      }\n",
              "      const div = document.createElement('div');\n",
              "      const label = document.createElement('label');\n",
              "      label.textContent = `Downloading \"${filename}\": `;\n",
              "      div.appendChild(label);\n",
              "      const progress = document.createElement('progress');\n",
              "      progress.max = size;\n",
              "      div.appendChild(progress);\n",
              "      document.body.appendChild(div);\n",
              "\n",
              "      const buffers = [];\n",
              "      let downloaded = 0;\n",
              "\n",
              "      const channel = await google.colab.kernel.comms.open(id);\n",
              "      // Send a message to notify the kernel that we're ready.\n",
              "      channel.send({})\n",
              "\n",
              "      for await (const message of channel.messages) {\n",
              "        // Send a message to notify the kernel that we're ready.\n",
              "        channel.send({})\n",
              "        if (message.buffers) {\n",
              "          for (const buffer of message.buffers) {\n",
              "            buffers.push(buffer);\n",
              "            downloaded += buffer.byteLength;\n",
              "            progress.value = downloaded;\n",
              "          }\n",
              "        }\n",
              "      }\n",
              "      const blob = new Blob(buffers, {type: 'application/binary'});\n",
              "      const a = document.createElement('a');\n",
              "      a.href = window.URL.createObjectURL(blob);\n",
              "      a.download = filename;\n",
              "      div.appendChild(a);\n",
              "      a.click();\n",
              "      div.remove();\n",
              "    }\n",
              "  "
            ]
          },
          "metadata": {}
        },
        {
          "output_type": "display_data",
          "data": {
            "text/plain": [
              "<IPython.core.display.Javascript object>"
            ],
            "application/javascript": [
              "download(\"download_ed4a0b6d-158a-4845-8f07-aab96532f157\", \"best_model.bin\", 394855238)"
            ]
          },
          "metadata": {}
        }
      ]
    },
    {
      "cell_type": "code",
      "execution_count": null,
      "id": "f96fbc2b",
      "metadata": {
        "id": "f96fbc2b"
      },
      "outputs": [],
      "source": [
        "def evaluate(loader, split=\"Validation\"):\n",
        "    model.eval()\n",
        "    total_loss = 0\n",
        "    correct = 0\n",
        "    total = 0\n",
        "    all_preds = []\n",
        "    all_labels = []\n",
        "\n",
        "    with torch.no_grad():\n",
        "        for images, labels in loader:\n",
        "            images, labels = images.to(device), labels.to(device)\n",
        "            outputs = model(images)\n",
        "            loss = criterion(outputs, labels)\n",
        "            total_loss += loss.item()\n",
        "\n",
        "            _, predicted = torch.max(outputs, 1)\n",
        "            correct += (predicted == labels).sum().item()\n",
        "            total += labels.size(0)\n",
        "\n",
        "            all_preds.extend(predicted.cpu().numpy())\n",
        "            all_labels.extend(labels.cpu().numpy())\n",
        "\n",
        "    avg_loss = total_loss / len(loader)\n",
        "    accuracy = 100 * correct / total\n",
        "    print(f\"{split} | Loss: {avg_loss:.4f} | Accuracy: {accuracy:.2f}%\")\n",
        "    return avg_loss, accuracy, all_labels, all_preds"
      ]
    },
    {
      "cell_type": "code",
      "source": [
        "from google.colab import drive\n",
        "drive.mount('/content/drive')"
      ],
      "metadata": {
        "id": "FqxdjFmRpiOP",
        "colab": {
          "base_uri": "https://localhost:8080/"
        },
        "outputId": "d69d56ad-48b8-402c-d83d-62e18cdf83df"
      },
      "id": "FqxdjFmRpiOP",
      "execution_count": null,
      "outputs": [
        {
          "output_type": "stream",
          "name": "stdout",
          "text": [
            "Mounted at /content/drive\n"
          ]
        }
      ]
    },
    {
      "cell_type": "code",
      "source": [
        "val_loss, val_acc, val_labels, val_preds = evaluate(val_loader, split=\"Validation\")\n",
        "test_loss, test_acc, test_labels, test_preds = evaluate(test_loader, split=\"Test\")"
      ],
      "metadata": {
        "id": "aoGm-9Kri15S",
        "colab": {
          "base_uri": "https://localhost:8080/"
        },
        "outputId": "fa9e46dd-fb09-46f9-c2f3-30c3eaa5f32a"
      },
      "id": "aoGm-9Kri15S",
      "execution_count": null,
      "outputs": [
        {
          "output_type": "stream",
          "name": "stdout",
          "text": [
            "Validation | Loss: 1.0765 | Accuracy: 69.71%\n",
            "Test | Loss: 1.0395 | Accuracy: 72.10%\n"
          ]
        }
      ]
    },
    {
      "cell_type": "code",
      "source": [
        "from sklearn.metrics import confusion_matrix, ConfusionMatrixDisplay\n",
        "import matplotlib.pyplot as plt\n",
        "\n",
        "# get class names from the dataset\n",
        "class_names = test_loader.dataset.classes\n",
        "\n",
        "# confusion matrices\n",
        "cm_val = confusion_matrix(val_labels, val_preds)\n",
        "cm_test = confusion_matrix(test_labels, test_preds)\n",
        "\n",
        "fig, axes = plt.subplots(1, 2, figsize=(14, 6))\n",
        "\n",
        "# Validation cm\n",
        "disp_val = ConfusionMatrixDisplay(confusion_matrix=cm_val, display_labels=class_names)\n",
        "disp_val.plot(ax=axes[0], cmap=\"Blues\", xticks_rotation=45, colorbar=False)\n",
        "axes[0].set_title(\"Validation Confusion Matrix\")\n",
        "\n",
        "# Test cm\n",
        "disp_test = ConfusionMatrixDisplay(confusion_matrix=cm_test, display_labels=class_names)\n",
        "disp_test.plot(ax=axes[1], cmap=\"Blues\", xticks_rotation=45, colorbar=False)\n",
        "axes[1].set_title(\"Test Confusion Matrix\")\n",
        "\n",
        "plt.tight_layout()\n",
        "plt.show()"
      ],
      "metadata": {
        "id": "Yoc_i7D9jLjh",
        "colab": {
          "base_uri": "https://localhost:8080/",
          "height": 437
        },
        "outputId": "99eb61d0-561f-4fa6-eca4-9b13cf97b6cc"
      },
      "id": "Yoc_i7D9jLjh",
      "execution_count": null,
      "outputs": [
        {
          "output_type": "display_data",
          "data": {
            "text/plain": [
              "<Figure size 1400x600 with 2 Axes>"
            ],
            "image/png": "[encoded data removed]"
          },
          "metadata": {}
        }
      ]
    },
    {
      "cell_type": "code",
      "source": [],
      "metadata": {
        "id": "vY73rRJGo4DI"
      },
      "id": "vY73rRJGo4DI",
      "execution_count": null,
      "outputs": []
    }
  ],
  "metadata": {
    "accelerator": "GPU",
    "colab": {
      "gpuType": "T4",
      "provenance": []
    },
    "kernelspec": {
      "display_name": "Python 3",
      "name": "python3"
    },
    "language_info": {
      "name": "python"
    }
  },
  "nbformat": 4,
  "nbformat_minor": 5
}