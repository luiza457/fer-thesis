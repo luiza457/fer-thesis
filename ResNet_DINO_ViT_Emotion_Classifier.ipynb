{
  "cells": [
    {
      "cell_type": "code",
      "execution_count": 1,
      "id": "M-mKlrracFdV",
      "metadata": {
        "colab": {
          "base_uri": "https://localhost:8080/"
        },
        "id": "M-mKlrracFdV",
        "outputId": "bd742df8-787f-4615-81f4-92cec5178f18"
      },
      "outputs": [
        {
          "output_type": "stream",
          "name": "stdout",
          "text": [
            "Requirement already satisfied: kaggle in /usr/local/lib/python3.11/dist-packages (1.7.4.5)\n",
            "Requirement already satisfied: bleach in /usr/local/lib/python3.11/dist-packages (from kaggle) (6.2.0)\n",
            "Requirement already satisfied: certifi>=14.05.14 in /usr/local/lib/python3.11/dist-packages (from kaggle) (2025.4.26)\n",
            "Requirement already satisfied: charset-normalizer in /usr/local/lib/python3.11/dist-packages (from kaggle) (3.4.2)\n",
            "Requirement already satisfied: idna in /usr/local/lib/python3.11/dist-packages (from kaggle) (3.10)\n",
            "Requirement already satisfied: protobuf in /usr/local/lib/python3.11/dist-packages (from kaggle) (5.29.4)\n",
            "Requirement already satisfied: python-dateutil>=2.5.3 in /usr/local/lib/python3.11/dist-packages (from kaggle) (2.9.0.post0)\n",
            "Requirement already satisfied: python-slugify in /usr/local/lib/python3.11/dist-packages (from kaggle) (8.0.4)\n",
            "Requirement already satisfied: requests in /usr/local/lib/python3.11/dist-packages (from kaggle) (2.32.3)\n",
            "Requirement already satisfied: setuptools>=21.0.0 in /usr/local/lib/python3.11/dist-packages (from kaggle) (75.2.0)\n",
            "Requirement already satisfied: six>=1.10 in /usr/local/lib/python3.11/dist-packages (from kaggle) (1.17.0)\n",
            "Requirement already satisfied: text-unidecode in /usr/local/lib/python3.11/dist-packages (from kaggle) (1.3)\n",
            "Requirement already satisfied: tqdm in /usr/local/lib/python3.11/dist-packages (from kaggle) (4.67.1)\n",
            "Requirement already satisfied: urllib3>=1.15.1 in /usr/local/lib/python3.11/dist-packages (from kaggle) (2.4.0)\n",
            "Requirement already satisfied: webencodings in /usr/local/lib/python3.11/dist-packages (from kaggle) (0.5.1)\n"
          ]
        }
      ],
      "source": [
        "pip install kaggle"
      ]
    },
    {
      "cell_type": "code",
      "execution_count": 2,
      "id": "u6caeTmVcHnt",
      "metadata": {
        "colab": {
          "base_uri": "https://localhost:8080/"
        },
        "id": "u6caeTmVcHnt",
        "outputId": "919c1aae-b52e-496d-bd36-823f088f14c0"
      },
      "outputs": [
        {
          "output_type": "stream",
          "name": "stdout",
          "text": [
            "Path to dataset files: /kaggle/input/fer2013\n"
          ]
        }
      ],
      "source": [
        "import kagglehub\n",
        "\n",
        "# Download latest version\n",
        "path = kagglehub.dataset_download(\"msambare/fer2013\")\n",
        "\n",
        "print(\"Path to dataset files:\", path)"
      ]
    },
    {
      "cell_type": "code",
      "execution_count": 3,
      "id": "803696ef",
      "metadata": {
        "id": "803696ef"
      },
      "outputs": [],
      "source": [
        "import torch\n",
        "import torch.nn as nn\n",
        "from torch.utils.data import DataLoader\n",
        "from torchvision import datasets, transforms\n",
        "from transformers import ResNetModel, ViTModel\n",
        "from tqdm import tqdm\n",
        "import matplotlib.pyplot as plt\n",
        "import os\n",
        "from torch.optim.lr_scheduler import ReduceLROnPlateau"
      ]
    },
    {
      "cell_type": "code",
      "execution_count": 4,
      "id": "027c3732",
      "metadata": {
        "colab": {
          "base_uri": "https://localhost:8080/"
        },
        "id": "027c3732",
        "outputId": "5e628d26-e35e-4663-e8e7-27eba77e2d22"
      },
      "outputs": [
        {
          "output_type": "stream",
          "name": "stderr",
          "text": [
            "/usr/local/lib/python3.11/dist-packages/huggingface_hub/utils/_auth.py:94: UserWarning: \n",
            "The secret `HF_TOKEN` does not exist in your Colab secrets.\n",
            "To authenticate with the Hugging Face Hub, create a token in your settings tab (https://huggingface.co/settings/tokens), set it as secret in your Google Colab and restart your session.\n",
            "You will be able to reuse this secret in all of your notebooks.\n",
            "Please note that authentication is recommended but still optional to access public models or datasets.\n",
            "  warnings.warn(\n",
            "Some weights of ViTModel were not initialized from the model checkpoint at facebook/dino-vitb16 and are newly initialized: ['pooler.dense.bias', 'pooler.dense.weight']\n",
            "You should probably TRAIN this model on a down-stream task to be able to use it for predictions and inference.\n"
          ]
        }
      ],
      "source": [
        "# Load & freeze ResNet-50\n",
        "cnn = ResNetModel.from_pretrained(\"microsoft/resnet-50\")\n",
        "for p in cnn.parameters():\n",
        "    p.requires_grad = False\n",
        "\n",
        "# Load & freeze DINO-ViT, with safetensors\n",
        "vit = ViTModel.from_pretrained(\"facebook/dino-vitb16\", use_safetensors=True)\n",
        "for p in vit.parameters():\n",
        "    p.requires_grad = False"
      ]
    },
    {
      "cell_type": "code",
      "execution_count": 5,
      "id": "196e4814",
      "metadata": {
        "id": "196e4814"
      },
      "outputs": [],
      "source": [
        "class CNNtoViT(nn.Module):\n",
        "    def __init__(self, cnn, vit):\n",
        "        super().__init__()\n",
        "        self.cnn = cnn\n",
        "        self.vit = vit\n",
        "        self.project = nn.Linear(2048, 768)\n",
        "\n",
        "    def forward(self, x):\n",
        "       # [B, 2048, 7, 7]\n",
        "        cnn_out = self.cnn(x).last_hidden_state\n",
        "        b, c, h, w = cnn_out.shape\n",
        "         # [B, 49, 2048]\n",
        "        cnn_flat = cnn_out.view(b, c, h * w).permute(0, 2, 1)\n",
        "        # [B, 49, 768]\n",
        "        projected = self.project(cnn_flat)\n",
        "\n",
        "        cls_token = self.vit.embeddings.cls_token.expand(b, -1, -1)\n",
        "         # [B, 50, 768]\n",
        "        x = torch.cat((cls_token, projected), dim=1)\n",
        "        x = x + self.vit.embeddings.position_embeddings[:, :x.size(1), :]\n",
        "        x = self.vit.embeddings.dropout(x)\n",
        "        x = self.vit.encoder(x)\n",
        "         # CLS token\n",
        "        return x.last_hidden_state[:, 0, :]"
      ]
    },
    {
      "cell_type": "code",
      "execution_count": 6,
      "id": "7d5436fd",
      "metadata": {
        "id": "7d5436fd"
      },
      "outputs": [],
      "source": [
        "class FullModel(nn.Module):\n",
        "    def __init__(self, cnn, vit, num_classes=7):\n",
        "        super().__init__()\n",
        "        self.backbone = CNNtoViT(cnn, vit)\n",
        "        self.classifier = nn.Sequential(\n",
        "                    nn.Linear(768, 256),\n",
        "                    nn.ReLU(),\n",
        "                    nn.Dropout(0.3),\n",
        "                    nn.Linear(256, num_classes)\n",
        "                )\n",
        "\n",
        "\n",
        "    def forward(self, x):\n",
        "        features = self.backbone(x)\n",
        "        return self.classifier(features)\n",
        "\n",
        "model = FullModel(cnn, vit)"
      ]
    },
    {
      "cell_type": "code",
      "execution_count": 7,
      "id": "4dbf3a4c",
      "metadata": {
        "id": "4dbf3a4c"
      },
      "outputs": [],
      "source": [
        "from torchvision import datasets, transforms\n",
        "from torch.utils.data import DataLoader, random_split\n",
        "\n",
        "transform = transforms.Compose([\n",
        "    transforms.RandomHorizontalFlip(),\n",
        "    transforms.RandomRotation(10),\n",
        "    transforms.Resize((224, 224)),\n",
        "    transforms.ToTensor(),\n",
        "    transforms.Normalize([0.5]*3, [0.5]*3)\n",
        "])\n",
        "\n",
        "\n",
        "# training data\n",
        "full_train_data = datasets.ImageFolder(\"/kaggle/input/fer2013/train\", transform=transform)\n",
        "\n",
        "# split 90% train, 10% val\n",
        "train_size = int(0.9 * len(full_train_data))\n",
        "val_size = len(full_train_data) - train_size\n",
        "train_data, val_data = random_split(full_train_data, [train_size, val_size])\n",
        "\n",
        "test_data = datasets.ImageFolder(\"/kaggle/input/fer2013/test\", transform=transform)\n",
        "\n",
        "train_loader = DataLoader(train_data, batch_size=32, shuffle=True)\n",
        "val_loader = DataLoader(val_data, batch_size=32)\n",
        "test_loader = DataLoader(test_data, batch_size=32)\n"
      ]
    },
    {
      "cell_type": "code",
      "execution_count": 8,
      "id": "c2e3d105",
      "metadata": {
        "colab": {
          "base_uri": "https://localhost:8080/"
        },
        "id": "c2e3d105",
        "outputId": "324da89d-d129-4c90-d776-043439440893"
      },
      "outputs": [
        {
          "output_type": "stream",
          "name": "stderr",
          "text": [
            "Epoch 1 - Training: 100%|██████████| 808/808 [04:51<00:00,  2.78it/s]\n"
          ]
        },
        {
          "output_type": "stream",
          "name": "stdout",
          "text": [
            "Epoch 1 | Train Loss: 1.8194 | Train Acc: 24.68% | Val Loss: 1.8096 | Val Acc: 24.10%\n",
            "Learning Rate: 0.000100\n",
            "New best model saved at epoch 1 with Val Acc: 24.10%\n"
          ]
        },
        {
          "output_type": "stream",
          "name": "stderr",
          "text": [
            "Epoch 2 - Training: 100%|██████████| 808/808 [04:50<00:00,  2.78it/s]\n"
          ]
        },
        {
          "output_type": "stream",
          "name": "stdout",
          "text": [
            "Epoch 2 | Train Loss: 1.8094 | Train Acc: 25.21% | Val Loss: 1.8062 | Val Acc: 24.56%\n",
            "Learning Rate: 0.000100\n",
            "New best model saved at epoch 2 with Val Acc: 24.56%\n"
          ]
        },
        {
          "output_type": "stream",
          "name": "stderr",
          "text": [
            "Epoch 3 - Training: 100%|██████████| 808/808 [04:45<00:00,  2.83it/s]\n"
          ]
        },
        {
          "output_type": "stream",
          "name": "stdout",
          "text": [
            "Epoch 3 | Train Loss: 1.8024 | Train Acc: 25.18% | Val Loss: 1.8057 | Val Acc: 24.10%\n",
            "Learning Rate: 0.000100\n"
          ]
        },
        {
          "output_type": "stream",
          "name": "stderr",
          "text": [
            "Epoch 4 - Training: 100%|██████████| 808/808 [04:44<00:00,  2.84it/s]\n"
          ]
        },
        {
          "output_type": "stream",
          "name": "stdout",
          "text": [
            "Epoch 4 | Train Loss: 1.7969 | Train Acc: 25.45% | Val Loss: 1.7911 | Val Acc: 24.49%\n",
            "Learning Rate: 0.000100\n"
          ]
        },
        {
          "output_type": "stream",
          "name": "stderr",
          "text": [
            "Epoch 5 - Training: 100%|██████████| 808/808 [04:44<00:00,  2.84it/s]\n"
          ]
        },
        {
          "output_type": "stream",
          "name": "stdout",
          "text": [
            "Epoch 5 | Train Loss: 1.7922 | Train Acc: 25.82% | Val Loss: 1.7903 | Val Acc: 24.80%\n",
            "Learning Rate: 0.000100\n",
            "New best model saved at epoch 5 with Val Acc: 24.80%\n"
          ]
        },
        {
          "output_type": "stream",
          "name": "stderr",
          "text": [
            "Epoch 6 - Training: 100%|██████████| 808/808 [04:43<00:00,  2.85it/s]\n"
          ]
        },
        {
          "output_type": "stream",
          "name": "stdout",
          "text": [
            "Epoch 6 | Train Loss: 1.7856 | Train Acc: 25.70% | Val Loss: 1.7871 | Val Acc: 24.83%\n",
            "Learning Rate: 0.000100\n",
            "New best model saved at epoch 6 with Val Acc: 24.83%\n"
          ]
        },
        {
          "output_type": "stream",
          "name": "stderr",
          "text": [
            "Epoch 7 - Training: 100%|██████████| 808/808 [04:45<00:00,  2.83it/s]\n"
          ]
        },
        {
          "output_type": "stream",
          "name": "stdout",
          "text": [
            "Epoch 7 | Train Loss: 1.7801 | Train Acc: 25.81% | Val Loss: 1.7804 | Val Acc: 24.80%\n",
            "Learning Rate: 0.000100\n"
          ]
        },
        {
          "output_type": "stream",
          "name": "stderr",
          "text": [
            "Epoch 8 - Training: 100%|██████████| 808/808 [04:49<00:00,  2.79it/s]\n"
          ]
        },
        {
          "output_type": "stream",
          "name": "stdout",
          "text": [
            "Epoch 8 | Train Loss: 1.7770 | Train Acc: 26.19% | Val Loss: 1.7733 | Val Acc: 25.88%\n",
            "Learning Rate: 0.000100\n",
            "New best model saved at epoch 8 with Val Acc: 25.88%\n"
          ]
        },
        {
          "output_type": "stream",
          "name": "stderr",
          "text": [
            "Epoch 9 - Training: 100%|██████████| 808/808 [04:44<00:00,  2.84it/s]\n"
          ]
        },
        {
          "output_type": "stream",
          "name": "stdout",
          "text": [
            "Epoch 9 | Train Loss: 1.7706 | Train Acc: 26.72% | Val Loss: 1.7656 | Val Acc: 27.17%\n",
            "Learning Rate: 0.000100\n",
            "New best model saved at epoch 9 with Val Acc: 27.17%\n"
          ]
        },
        {
          "output_type": "stream",
          "name": "stderr",
          "text": [
            "Epoch 10 - Training: 100%|██████████| 808/808 [04:47<00:00,  2.81it/s]\n"
          ]
        },
        {
          "output_type": "stream",
          "name": "stdout",
          "text": [
            "Epoch 10 | Train Loss: 1.7648 | Train Acc: 26.77% | Val Loss: 1.7623 | Val Acc: 26.54%\n",
            "Learning Rate: 0.000100\n"
          ]
        },
        {
          "output_type": "stream",
          "name": "stderr",
          "text": [
            "Epoch 11 - Training: 100%|██████████| 808/808 [04:44<00:00,  2.84it/s]\n"
          ]
        },
        {
          "output_type": "stream",
          "name": "stdout",
          "text": [
            "Epoch 11 | Train Loss: 1.7607 | Train Acc: 27.27% | Val Loss: 1.7609 | Val Acc: 26.23%\n",
            "Learning Rate: 0.000100\n"
          ]
        },
        {
          "output_type": "stream",
          "name": "stderr",
          "text": [
            "Epoch 12 - Training: 100%|██████████| 808/808 [04:43<00:00,  2.85it/s]\n"
          ]
        },
        {
          "output_type": "stream",
          "name": "stdout",
          "text": [
            "Epoch 12 | Train Loss: 1.7556 | Train Acc: 27.67% | Val Loss: 1.7599 | Val Acc: 25.98%\n",
            "Learning Rate: 0.000100\n"
          ]
        },
        {
          "output_type": "stream",
          "name": "stderr",
          "text": [
            "Epoch 13 - Training: 100%|██████████| 808/808 [04:41<00:00,  2.87it/s]\n"
          ]
        },
        {
          "output_type": "stream",
          "name": "stdout",
          "text": [
            "Epoch 13 | Train Loss: 1.7546 | Train Acc: 27.69% | Val Loss: 1.7480 | Val Acc: 26.79%\n",
            "Learning Rate: 0.000100\n"
          ]
        },
        {
          "output_type": "stream",
          "name": "stderr",
          "text": [
            "Epoch 14 - Training: 100%|██████████| 808/808 [04:42<00:00,  2.86it/s]\n"
          ]
        },
        {
          "output_type": "stream",
          "name": "stdout",
          "text": [
            "Epoch 14 | Train Loss: 1.7502 | Train Acc: 27.95% | Val Loss: 1.7457 | Val Acc: 27.73%\n",
            "Learning Rate: 0.000100\n",
            "New best model saved at epoch 14 with Val Acc: 27.73%\n"
          ]
        },
        {
          "output_type": "stream",
          "name": "stderr",
          "text": [
            "Epoch 15 - Training: 100%|██████████| 808/808 [04:44<00:00,  2.84it/s]\n"
          ]
        },
        {
          "output_type": "stream",
          "name": "stdout",
          "text": [
            "Epoch 15 | Train Loss: 1.7452 | Train Acc: 28.38% | Val Loss: 1.7472 | Val Acc: 28.00%\n",
            "Learning Rate: 0.000100\n",
            "New best model saved at epoch 15 with Val Acc: 28.00%\n"
          ]
        },
        {
          "output_type": "stream",
          "name": "stderr",
          "text": [
            "Epoch 16 - Training: 100%|██████████| 808/808 [04:43<00:00,  2.85it/s]\n"
          ]
        },
        {
          "output_type": "stream",
          "name": "stdout",
          "text": [
            "Epoch 16 | Train Loss: 1.7465 | Train Acc: 28.62% | Val Loss: 1.7442 | Val Acc: 29.40%\n",
            "Learning Rate: 0.000100\n",
            "New best model saved at epoch 16 with Val Acc: 29.40%\n"
          ]
        },
        {
          "output_type": "stream",
          "name": "stderr",
          "text": [
            "Epoch 17 - Training: 100%|██████████| 808/808 [04:43<00:00,  2.85it/s]\n"
          ]
        },
        {
          "output_type": "stream",
          "name": "stdout",
          "text": [
            "Epoch 17 | Train Loss: 1.7418 | Train Acc: 28.71% | Val Loss: 1.7412 | Val Acc: 28.07%\n",
            "Learning Rate: 0.000100\n"
          ]
        },
        {
          "output_type": "stream",
          "name": "stderr",
          "text": [
            "Epoch 18 - Training: 100%|██████████| 808/808 [04:43<00:00,  2.85it/s]\n"
          ]
        },
        {
          "output_type": "stream",
          "name": "stdout",
          "text": [
            "Epoch 18 | Train Loss: 1.7425 | Train Acc: 28.67% | Val Loss: 1.7411 | Val Acc: 27.69%\n",
            "Learning Rate: 0.000100\n"
          ]
        },
        {
          "output_type": "stream",
          "name": "stderr",
          "text": [
            "Epoch 19 - Training: 100%|██████████| 808/808 [04:43<00:00,  2.85it/s]\n"
          ]
        },
        {
          "output_type": "stream",
          "name": "stdout",
          "text": [
            "Epoch 19 | Train Loss: 1.7400 | Train Acc: 29.04% | Val Loss: 1.7485 | Val Acc: 27.45%\n",
            "Learning Rate: 0.000100\n"
          ]
        },
        {
          "output_type": "stream",
          "name": "stderr",
          "text": [
            "Epoch 20 - Training: 100%|██████████| 808/808 [04:43<00:00,  2.85it/s]\n"
          ]
        },
        {
          "output_type": "stream",
          "name": "stdout",
          "text": [
            "Epoch 20 | Train Loss: 1.7363 | Train Acc: 29.03% | Val Loss: 1.7412 | Val Acc: 28.67%\n",
            "Learning Rate: 0.000100\n"
          ]
        },
        {
          "output_type": "stream",
          "name": "stderr",
          "text": [
            "Epoch 21 - Training: 100%|██████████| 808/808 [04:43<00:00,  2.85it/s]\n"
          ]
        },
        {
          "output_type": "stream",
          "name": "stdout",
          "text": [
            "Epoch 21 | Train Loss: 1.7334 | Train Acc: 29.07% | Val Loss: 1.7379 | Val Acc: 28.14%\n",
            "Learning Rate: 0.000100\n"
          ]
        },
        {
          "output_type": "stream",
          "name": "stderr",
          "text": [
            "Epoch 22 - Training: 100%|██████████| 808/808 [04:44<00:00,  2.84it/s]\n"
          ]
        },
        {
          "output_type": "stream",
          "name": "stdout",
          "text": [
            "Epoch 22 | Train Loss: 1.7328 | Train Acc: 29.40% | Val Loss: 1.7246 | Val Acc: 30.23%\n",
            "Learning Rate: 0.000100\n",
            "New best model saved at epoch 22 with Val Acc: 30.23%\n"
          ]
        },
        {
          "output_type": "stream",
          "name": "stderr",
          "text": [
            "Epoch 23 - Training: 100%|██████████| 808/808 [04:47<00:00,  2.81it/s]\n"
          ]
        },
        {
          "output_type": "stream",
          "name": "stdout",
          "text": [
            "Epoch 23 | Train Loss: 1.7310 | Train Acc: 29.54% | Val Loss: 1.7242 | Val Acc: 29.15%\n",
            "Learning Rate: 0.000100\n"
          ]
        },
        {
          "output_type": "stream",
          "name": "stderr",
          "text": [
            "Epoch 24 - Training: 100%|██████████| 808/808 [04:42<00:00,  2.86it/s]\n"
          ]
        },
        {
          "output_type": "stream",
          "name": "stdout",
          "text": [
            "Epoch 24 | Train Loss: 1.7296 | Train Acc: 29.63% | Val Loss: 1.7326 | Val Acc: 29.89%\n",
            "Learning Rate: 0.000100\n"
          ]
        },
        {
          "output_type": "stream",
          "name": "stderr",
          "text": [
            "Epoch 25 - Training: 100%|██████████| 808/808 [04:43<00:00,  2.85it/s]\n"
          ]
        },
        {
          "output_type": "stream",
          "name": "stdout",
          "text": [
            "Epoch 25 | Train Loss: 1.7311 | Train Acc: 29.57% | Val Loss: 1.7241 | Val Acc: 29.95%\n",
            "Learning Rate: 0.000100\n"
          ]
        }
      ],
      "source": [
        "device = torch.device(\"cuda\" if torch.cuda.is_available() else \"cpu\")\n",
        "model.to(device)\n",
        "\n",
        "criterion = nn.CrossEntropyLoss()\n",
        "optimizer = torch.optim.Adam(model.classifier.parameters(), lr=1e-4)\n",
        "scheduler = ReduceLROnPlateau(optimizer, mode='min', factor=0.5, patience=3, verbose=True)\n",
        "\n",
        "num_epochs = 25\n",
        "best_val_accuracy = 0.0\n",
        "save_path = \"saved_emotion_model\"\n",
        "os.makedirs(save_path, exist_ok=True)\n",
        "\n",
        "# training loop\n",
        "for epoch in range(num_epochs):\n",
        "\n",
        "    model.train()\n",
        "    total_train_loss = 0\n",
        "    correct_train = 0\n",
        "    total_train = 0\n",
        "\n",
        "    for images, labels in tqdm(train_loader, desc=f\"Epoch {epoch+1} - Training\"):\n",
        "        images, labels = images.to(device), labels.to(device)\n",
        "        optimizer.zero_grad()\n",
        "        outputs = model(images)\n",
        "        loss = criterion(outputs, labels)\n",
        "        loss.backward()\n",
        "        optimizer.step()\n",
        "\n",
        "        total_train_loss += loss.item()\n",
        "        _, predicted = torch.max(outputs, 1)\n",
        "        correct_train += (predicted == labels).sum().item()\n",
        "        total_train += labels.size(0)\n",
        "\n",
        "    # val\n",
        "    model.eval()\n",
        "    total_val_loss = 0\n",
        "    correct_val = 0\n",
        "    total_val = 0\n",
        "\n",
        "    with torch.no_grad():\n",
        "        for images, labels in val_loader:\n",
        "            images, labels = images.to(device), labels.to(device)\n",
        "            outputs = model(images)\n",
        "            loss = criterion(outputs, labels)\n",
        "            total_val_loss += loss.item()\n",
        "            _, predicted = torch.max(outputs, 1)\n",
        "            correct_val += (predicted == labels).sum().item()\n",
        "            total_val += labels.size(0)\n",
        "\n",
        "    # train, val loss + accuracy\n",
        "    avg_train_loss = total_train_loss / len(train_loader)\n",
        "    avg_val_loss = total_val_loss / len(val_loader)\n",
        "    train_accuracy = 100 * correct_train / total_train\n",
        "    val_accuracy = 100 * correct_val / total_val\n",
        "\n",
        "    print(f\"Epoch {epoch+1} | \"\n",
        "          f\"Train Loss: {avg_train_loss:.4f} | Train Acc: {train_accuracy:.2f}% | \"\n",
        "          f\"Val Loss: {avg_val_loss:.4f} | Val Acc: {val_accuracy:.2f}%\")\n",
        "\n",
        "    scheduler.step(avg_val_loss)\n",
        "    # current lr\n",
        "    current_lr = optimizer.param_groups[0]['lr']\n",
        "    print(f\"Learning Rate: {current_lr:.6f}\")\n",
        "\n",
        "    # save best model\n",
        "    if val_accuracy > best_val_accuracy:\n",
        "        best_val_accuracy = val_accuracy\n",
        "        torch.save(model.state_dict(), os.path.join(save_path, \"best_model.bin\"))\n",
        "        print(f\"New best model saved at epoch {epoch+1} with Val Acc: {val_accuracy:.2f}%\")"
      ]
    },
    {
      "cell_type": "code",
      "source": [
        "model.load_state_dict(torch.load(os.path.join(save_path, \"best_model.bin\")))"
      ],
      "metadata": {
        "colab": {
          "base_uri": "https://localhost:8080/"
        },
        "id": "vYBLlxVLiV-l",
        "outputId": "081b8705-9efb-464f-acf0-f1e3a916b876"
      },
      "id": "vYBLlxVLiV-l",
      "execution_count": 9,
      "outputs": [
        {
          "output_type": "execute_result",
          "data": {
            "text/plain": [
              "<All keys matched successfully>"
            ]
          },
          "metadata": {},
          "execution_count": 9
        }
      ]
    },
    {
      "cell_type": "code",
      "execution_count": 10,
      "id": "f96fbc2b",
      "metadata": {
        "id": "f96fbc2b"
      },
      "outputs": [],
      "source": [
        "def evaluate(loader, split=\"Validation\"):\n",
        "    model.eval()\n",
        "    total_loss = 0\n",
        "    correct = 0\n",
        "    total = 0\n",
        "    all_preds = []\n",
        "    all_labels = []\n",
        "\n",
        "    with torch.no_grad():\n",
        "        for images, labels in loader:\n",
        "            images, labels = images.to(device), labels.to(device)\n",
        "            outputs = model(images)\n",
        "            loss = criterion(outputs, labels)\n",
        "            total_loss += loss.item()\n",
        "\n",
        "            _, predicted = torch.max(outputs, 1)\n",
        "            correct += (predicted == labels).sum().item()\n",
        "            total += labels.size(0)\n",
        "\n",
        "            all_preds.extend(predicted.cpu().numpy())\n",
        "            all_labels.extend(labels.cpu().numpy())\n",
        "\n",
        "    avg_loss = total_loss / len(loader)\n",
        "    accuracy = 100 * correct / total\n",
        "    print(f\"{split} | Loss: {avg_loss:.4f} | Accuracy: {accuracy:.2f}%\")\n",
        "    return avg_loss, accuracy, all_labels, all_preds"
      ]
    },
    {
      "cell_type": "code",
      "source": [
        "val_loss, val_acc, val_labels, val_preds = evaluate(val_loader, split=\"Validation\")\n",
        "test_loss, test_acc, test_labels, test_preds = evaluate(test_loader, split=\"Test\")"
      ],
      "metadata": {
        "colab": {
          "base_uri": "https://localhost:8080/"
        },
        "id": "aoGm-9Kri15S",
        "outputId": "94af64b4-51c6-4b90-c909-a3c433e5efb6"
      },
      "id": "aoGm-9Kri15S",
      "execution_count": 11,
      "outputs": [
        {
          "output_type": "stream",
          "name": "stdout",
          "text": [
            "Validation | Loss: 1.7286 | Accuracy: 28.94%\n",
            "Test | Loss: 1.7266 | Accuracy: 30.09%\n"
          ]
        }
      ]
    },
    {
      "cell_type": "code",
      "source": [
        "from sklearn.metrics import confusion_matrix, ConfusionMatrixDisplay\n",
        "import matplotlib.pyplot as plt\n",
        "\n",
        "# get class names from the dataset\n",
        "class_names = test_loader.dataset.classes\n",
        "\n",
        "# confusion matrices\n",
        "cm_val = confusion_matrix(val_labels, val_preds)\n",
        "cm_test = confusion_matrix(test_labels, test_preds)\n",
        "\n",
        "fig, axes = plt.subplots(1, 2, figsize=(14, 6))\n",
        "\n",
        "# Validation cm\n",
        "disp_val = ConfusionMatrixDisplay(confusion_matrix=cm_val, display_labels=class_names)\n",
        "disp_val.plot(ax=axes[0], cmap=\"Blues\", xticks_rotation=45, colorbar=False)\n",
        "axes[0].set_title(\"Validation Confusion Matrix\")\n",
        "\n",
        "# Test cm\n",
        "disp_test = ConfusionMatrixDisplay(confusion_matrix=cm_test, display_labels=class_names)\n",
        "disp_test.plot(ax=axes[1], cmap=\"Blues\", xticks_rotation=45, colorbar=False)\n",
        "axes[1].set_title(\"Test Confusion Matrix\")\n",
        "\n",
        "plt.tight_layout()\n",
        "plt.show()"
      ],
      "metadata": {
        "colab": {
          "base_uri": "https://localhost:8080/",
          "height": 419
        },
        "id": "Yoc_i7D9jLjh",
        "outputId": "39f9e572-e151-4e03-9b57-2f5174b803d3"
      },
      "id": "Yoc_i7D9jLjh",
      "execution_count": 12,
      "outputs": [
        {
          "output_type": "display_data",
          "data": {
            "text/plain": [
              "<Figure size 1400x600 with 2 Axes>"
            ],
            "image/png": "[encoded data removed]"
          },
          "metadata": {}
        }
      ]
    }
  ],
  "metadata": {
    "accelerator": "GPU",
    "colab": {
      "gpuType": "T4",
      "provenance": []
    },
    "kernelspec": {
      "display_name": "Python 3",
      "name": "python3"
    },
    "language_info": {
      "name": "python"
    }
  },
  "nbformat": 4,
  "nbformat_minor": 5
}