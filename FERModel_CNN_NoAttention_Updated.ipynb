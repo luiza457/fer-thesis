{
  "cells": [
    {
      "cell_type": "markdown",
      "metadata": {
        "id": "view-in-github",
        "colab_type": "text"
      },
      "source": [
        "<a href=\"https://colab.research.google.com/github/luiza457/fer-thesis/blob/main/FERModel_CNN_NoAttention_Updated.ipynb\" target=\"_parent\"><img src=\"https://colab.research.google.com/assets/colab-badge.svg\" alt=\"Open In Colab\"/></a>"
      ]
    },
    {
      "cell_type": "code",
      "execution_count": null,
      "id": "rdERK0Td0XWK",
      "metadata": {
        "colab": {
          "base_uri": "https://localhost:8080/"
        },
        "id": "rdERK0Td0XWK",
        "outputId": "acf7d641-df02-4c15-ef44-a1b9c352ea44"
      },
      "outputs": [
        {
          "name": "stdout",
          "output_type": "stream",
          "text": [
            "Mounted at /content/drive\n"
          ]
        }
      ],
      "source": [
        "from google.colab import drive\n",
        "drive.mount('/content/drive')"
      ]
    },
    {
      "cell_type": "markdown",
      "id": "d61049e1-e043-418a-b191-1972420169a7",
      "metadata": {
        "id": "d61049e1-e043-418a-b191-1972420169a7"
      },
      "source": [
        "Firstly, we are going to build the CNN pipeline for local facial features.\n",
        "Step 1. Train the model\n",
        "Step 2. Add local attention inside CNN layers"
      ]
    },
    {
      "cell_type": "code",
      "execution_count": null,
      "id": "260daf32-04fc-402e-8005-f535b2d805d0",
      "metadata": {
        "colab": {
          "base_uri": "https://localhost:8080/",
          "height": 733,
          "referenced_widgets": [
            "972750c48adb45ebbc4884713601ee01",
            "9414f53274c14dbc8037bb5720137f50",
            "a8d16a4671dd478ba62f90c6f781b1eb",
            "ace6a441a3694bc2b471526828c8f967",
            "a2bd287fb207432c9ae9249ac3993ffe",
            "42a5a3f3a72a42f6976fe0328f847dc4",
            "816ecbd4bf1942a2931a46f6f4325fbf",
            "a1637a6d4e2a4ac1bace80eafee0ee5c",
            "a455e555d818450eaa07ca29bb4fdb09",
            "098b7c27e0d34ba8a2b18fb559fba583",
            "604851a7d07845b3b738eb3997b078e0",
            "c719cd81151d4cabb75ffdbfe35b100a",
            "3fa5fe1234ba44d4a7165787d61d2771",
            "e29da203990545a28b611f6ffa4e01b1",
            "bd1862d755824307bc459030e96efcbf",
            "6feee953283b456ea8ce7355f6d966d7",
            "86f83811f0be4e7f897287b0c7c522fa",
            "b005c616abc9412eb91652b8f03ea8ed",
            "1564e99a487b40c7a7e4ee98c4a8f85e",
            "3e7796f4faa74f44af587308df6653df",
            "7f9524697d884ab5b958ef8ad6a11956",
            "155d58d169cd4f3bbcb88ce48c9b7439",
            "7f058dd940184931904912c3ecbc08f9",
            "160f5a1adfc447229f875f049406a489",
            "a4d56ec665cc47459985e2e790035749",
            "2976670e10ae4344af3ac649bce41ddb",
            "90206451272a465c9e02dfd223e2d2ee",
            "97f90d39fdde474e853ff94670294615",
            "f4dbad0ad8564e999757c04a347a2eab",
            "ac9daedff211498c9d70694f525304d7",
            "10d3129206a44997aab8d806183797dd",
            "64e09402314f48afb0474e87c604ccea",
            "93c48cdfcbe2412db694af59f16fdafd",
            "6d57957bec434180ad8800df72f6cf7a",
            "a959c5afddf849a9939a39c2e4ae2c17",
            "d001caf5a50d4add95509a1850e65b6b",
            "ae0ca31f7f0c4239aa603987d9284aa4",
            "66a58f4beb8945088f0e23ba3ef06430",
            "d7e744d1688e4b3a9a0cca993dea7462",
            "d363a664cc38473c99627349dea3eb44",
            "039ea67e9f1a439bbadb945554ac453a",
            "017f2d534cb1431b801e3883f890cd4c",
            "ac0896a5d988445e845633f7a44b51f5",
            "1a8259cd6a794a47aa41a6001dd75b9d",
            "abf6f04ee9e04828b6a59931f1cca47e",
            "065b534629ce444bba5d8651dca60aee",
            "5813dff49e974237b416a3a913a9e4c8",
            "419e341266414f1ab2eeedec571e0065",
            "fc49816b5edc4f498af76ee8c1d991bc",
            "b1de4a4a5a3143659dd87209e6a8eabe",
            "f3f8fefc194449249f77aac8f66a0938",
            "38dcd6c03bc748578be9e1142a95d5a1",
            "f7f437d9e33f4b20b7fb40ef7f4ecedf",
            "75e05847106d4f38a410c4fc9402e8d7",
            "06090dd295c44af1a2f9607c3347f5ae",
            "3e06e44e4e184fb2b68b2107ab927a61",
            "b71af9c3350840f6aa6147ffd9082d1f",
            "8d859ee22518436fa30afe80ead0f45a",
            "aa1f114cd7db44d781dcd93ce6478118",
            "3b75f6cc153247aa986d528df2f83399",
            "6368345e3cf7484eaa4e9e67991d07a9",
            "2d86e5ea84c94d55973f6386cd94298e",
            "9e377bd756b1445993e4bc728ed5bcb7",
            "3fb80a2817ee4b19bb8d248980a219f5",
            "51b5aa2f24e84f9aa25b696ed01d48f3",
            "8e788d8bd76d48e3a56c8c041a8d00a8",
            "681568b1ba9e48f3bdb5c7af159b41c1",
            "da246a00cd4a4a37aa0c769f548be931",
            "5c650d8ab9f741abbbbafa80fffc2d1c",
            "1f0f4edece6c4a1593e07e11391861e6",
            "14681711a8064260812b1cc791ea357c",
            "00f6ccb5cdd640098909781526d8b5e9",
            "8da6a4e11ee143d6a7347ee302f32966",
            "9a94d1dc54204d4b9f4d3944eec36ebe",
            "34a139bc228046ba833b078689dbe5f9",
            "3bac92fce73446279e47ba70e5238a27",
            "5bb75643b14247529a2c49db2d45e56b",
            "e7cee50590a7489cb59c64e730e76415",
            "23905d5ba1474403994913785f08e20e",
            "b9c1d57bb7c44620b49a6820461573fd",
            "3f1484ef6af642ec87b75de3c7475c15",
            "f928952d0f724990b2e4e776433ddd17",
            "edf786fee10947ee9b4388514488036d",
            "7b2b6cfe7a174c74a2e55b07ced4911c",
            "065da69a152b406f87a197c8e123fdc1",
            "0d802e09895a49d892aa22a841dcce17",
            "0f469ea185e24c00a3ebd4fb3002ee32",
            "9371c334396a419185f6af5b4f0fbca7",
            "20be13fbe7874db3b79c5c3c968b9b49",
            "fa4e3ce627ad486194c689bb92754cd7",
            "983d1e8998f24e849166155051970fc4",
            "c73c050715544045834f5523fff3c707",
            "eca45eefdfd5456381c7a67ee7e63d77",
            "377c1df7b6184d8abef5b8b50bf1b765",
            "2f3fe83950414189a95c4dd4650ec8e5",
            "4b9cba196249418ba0a5d67405de0b3b",
            "a0452caae6bd4c99b96536d54da4bafc",
            "9164b04dc1024fe8b5149aa3fecf174c",
            "978f861901d94efb95e7fccec9b05e42",
            "495125d80f0b48779faf068708e196e8",
            "29a57d928a6c4a9a8157524d46fafd85",
            "d38913fc93294b4da26859b337095c82",
            "750e670a5d714ead8e05acaa0d2b61e8",
            "a3a309b164474a3698b98fc36d3c8626",
            "cb74fb3476754f9ea826103465d66e1d",
            "70efe31d298c49d080d0ee408e800c25",
            "eb3811189e1f488a9b292fdb4fdc78b3",
            "959eaf62b252469dbcbcea8f02e2388c",
            "076bf93cede540d4bc0fcc7e5740490b",
            "452e48f0299e461c9cf1e2829dfcc1ad",
            "b6d40e4810a545bd8851c3f0447b8330",
            "3b43de6f3101488487ebf961a270597f",
            "8db953380a074f6b943f2b23061936b8",
            "50c3cdc1777f446782c620470dd4c31f",
            "35372f22e007415b9179482b4a1b7440",
            "b7b153597af142d8be1761600a8f3253",
            "21297c8c4fea4aee9a16d8d22c02c752",
            "2ee71e6e244a43678ebaf4587555291c",
            "ec42837ca6f24a5b9c49853d77728534",
            "a8d42aa2c5bc4794bff3aad0d003642b",
            "c788fcb6421944d3b3521db81d97f3ed",
            "ddeedf290ce74355afb44a2fd2818ec4",
            "04100ae963944d34870596fe563e0d23",
            "dc78277ea86f4857918e51b4f07ea47b",
            "5006fa412cc94a03bba6cae6751d83bb",
            "681f1686432d44e894b1c0bf9a9fc923",
            "c5e402dc15aa4de989a4b0f18b1822d3",
            "542f3268ff9449a6ab067f2a088fc949",
            "edb1be2f15884690818d25b2c5ac9c05",
            "501f2d79ff1345798052dd193d685902",
            "816915181b6447dcb07098b2fe1021d3",
            "5b852ffce69b4190a0265d63f41a2d00",
            "",
            "6b1f9f73f50143f48d6261539575f3e3"
          ]
        },
        "id": "260daf32-04fc-402e-8005-f535b2d805d0",
        "outputId": "998459bf-57ee-4807-e2c8-30019969d27c"
      },
      "outputs": [
        {
          "name": "stdout",
          "output_type": "stream",
          "text": [
            "Length of train_dataset: 37553\n",
            "Length of trainloader: 1174\n"
          ]
        },
        {
          "name": "stderr",
          "output_type": "stream",
          "text": [
            "/opt/conda/lib/python3.11/site-packages/torchvision/models/_utils.py:223: UserWarning: Arguments other than a weight enum or `None` for 'weights' are deprecated since 0.13 and may be removed in the future. The current behavior is equivalent to passing `weights=ResNet18_Weights.IMAGENET1K_V1`. You can also use `weights=ResNet18_Weights.DEFAULT` to get the most up-to-date weights.\n",
            "  warnings.warn(msg)\n"
          ]
        },
        {
          "data": {
            "application/vnd.jupyter.widget-view+json": {
              "model_id": "",
              "version_major": 2,
              "version_minor": 0
            },
            "text/plain": [
              "Epoch 1/25:   0%|          | 0/1174 [00:00<?, ?it/s]"
            ]
          },
          "metadata": {},
          "output_type": "display_data"
        },
        {
          "name": "stdout",
          "output_type": "stream",
          "text": [
            "Epoch 1/25 | Train Loss: 1.6165 | Train Acc: 37.78% | Val Loss: 1.6158 | Val Acc: 39.75%\n",
            "Model saved at epoch 1 with validation accuracy: 39.75%\n"
          ]
        },
        {
          "data": {
            "application/vnd.jupyter.widget-view+json": {
              "model_id": "",
              "version_major": 2,
              "version_minor": 0
            },
            "text/plain": [
              "Epoch 2/25:   0%|          | 0/1174 [00:00<?, ?it/s]"
            ]
          },
          "metadata": {},
          "output_type": "display_data"
        },
        {
          "name": "stdout",
          "output_type": "stream",
          "text": [
            "Epoch 2/25 | Train Loss: 1.4368 | Train Acc: 45.94% | Val Loss: 1.3785 | Val Acc: 49.75%\n",
            "Model saved at epoch 2 with validation accuracy: 49.75%\n"
          ]
        },
        {
          "data": {
            "application/vnd.jupyter.widget-view+json": {
              "model_id": "",
              "version_major": 2,
              "version_minor": 0
            },
            "text/plain": [
              "Epoch 3/25:   0%|          | 0/1174 [00:00<?, ?it/s]"
            ]
          },
          "metadata": {},
          "output_type": "display_data"
        },
        {
          "name": "stdout",
          "output_type": "stream",
          "text": [
            "Epoch 3/25 | Train Loss: 1.3620 | Train Acc: 49.15% | Val Loss: 1.3333 | Val Acc: 51.75%\n",
            "Model saved at epoch 3 with validation accuracy: 51.75%\n"
          ]
        },
        {
          "data": {
            "application/vnd.jupyter.widget-view+json": {
              "model_id": "",
              "version_major": 2,
              "version_minor": 0
            },
            "text/plain": [
              "Epoch 4/25:   0%|          | 0/1174 [00:00<?, ?it/s]"
            ]
          },
          "metadata": {},
          "output_type": "display_data"
        },
        {
          "name": "stdout",
          "output_type": "stream",
          "text": [
            "Epoch 4/25 | Train Loss: 1.3067 | Train Acc: 51.56% | Val Loss: 1.2999 | Val Acc: 52.75%\n",
            "Model saved at epoch 4 with validation accuracy: 52.75%\n"
          ]
        },
        {
          "data": {
            "application/vnd.jupyter.widget-view+json": {
              "model_id": "",
              "version_major": 2,
              "version_minor": 0
            },
            "text/plain": [
              "Epoch 5/25:   0%|          | 0/1174 [00:00<?, ?it/s]"
            ]
          },
          "metadata": {},
          "output_type": "display_data"
        },
        {
          "name": "stdout",
          "output_type": "stream",
          "text": [
            "Epoch 5/25 | Train Loss: 1.2701 | Train Acc: 52.78% | Val Loss: 1.2931 | Val Acc: 52.00%\n"
          ]
        },
        {
          "data": {
            "application/vnd.jupyter.widget-view+json": {
              "model_id": "",
              "version_major": 2,
              "version_minor": 0
            },
            "text/plain": [
              "Epoch 6/25:   0%|          | 0/1174 [00:00<?, ?it/s]"
            ]
          },
          "metadata": {},
          "output_type": "display_data"
        },
        {
          "name": "stdout",
          "output_type": "stream",
          "text": [
            "Epoch 6/25 | Train Loss: 1.2438 | Train Acc: 53.66% | Val Loss: 1.3057 | Val Acc: 54.00%\n",
            "Model saved at epoch 6 with validation accuracy: 54.00%\n"
          ]
        },
        {
          "data": {
            "application/vnd.jupyter.widget-view+json": {
              "model_id": "",
              "version_major": 2,
              "version_minor": 0
            },
            "text/plain": [
              "Epoch 7/25:   0%|          | 0/1174 [00:00<?, ?it/s]"
            ]
          },
          "metadata": {},
          "output_type": "display_data"
        },
        {
          "name": "stdout",
          "output_type": "stream",
          "text": [
            "Epoch 7/25 | Train Loss: 1.2130 | Train Acc: 55.28% | Val Loss: 1.2576 | Val Acc: 56.12%\n",
            "Model saved at epoch 7 with validation accuracy: 56.12%\n"
          ]
        },
        {
          "data": {
            "application/vnd.jupyter.widget-view+json": {
              "model_id": "",
              "version_major": 2,
              "version_minor": 0
            },
            "text/plain": [
              "Epoch 8/25:   0%|          | 0/1174 [00:00<?, ?it/s]"
            ]
          },
          "metadata": {},
          "output_type": "display_data"
        },
        {
          "name": "stdout",
          "output_type": "stream",
          "text": [
            "Epoch 8/25 | Train Loss: 1.1816 | Train Acc: 56.31% | Val Loss: 1.2432 | Val Acc: 54.12%\n"
          ]
        },
        {
          "data": {
            "application/vnd.jupyter.widget-view+json": {
              "model_id": "",
              "version_major": 2,
              "version_minor": 0
            },
            "text/plain": [
              "Epoch 9/25:   0%|          | 0/1174 [00:00<?, ?it/s]"
            ]
          },
          "metadata": {},
          "output_type": "display_data"
        },
        {
          "name": "stdout",
          "output_type": "stream",
          "text": [
            "Epoch 9/25 | Train Loss: 1.1580 | Train Acc: 57.39% | Val Loss: 1.2879 | Val Acc: 51.38%\n"
          ]
        },
        {
          "data": {
            "application/vnd.jupyter.widget-view+json": {
              "model_id": "",
              "version_major": 2,
              "version_minor": 0
            },
            "text/plain": [
              "Epoch 10/25:   0%|          | 0/1174 [00:00<?, ?it/s]"
            ]
          },
          "metadata": {},
          "output_type": "display_data"
        },
        {
          "name": "stdout",
          "output_type": "stream",
          "text": [
            "Epoch 10/25 | Train Loss: 1.1366 | Train Acc: 58.15% | Val Loss: 1.3151 | Val Acc: 51.50%\n"
          ]
        },
        {
          "data": {
            "application/vnd.jupyter.widget-view+json": {
              "model_id": "",
              "version_major": 2,
              "version_minor": 0
            },
            "text/plain": [
              "Epoch 11/25:   0%|          | 0/1174 [00:00<?, ?it/s]"
            ]
          },
          "metadata": {},
          "output_type": "display_data"
        },
        {
          "name": "stdout",
          "output_type": "stream",
          "text": [
            "Epoch 11/25 | Train Loss: 1.1094 | Train Acc: 59.31% | Val Loss: 1.2199 | Val Acc: 58.25%\n",
            "Model saved at epoch 11 with validation accuracy: 58.25%\n"
          ]
        },
        {
          "data": {
            "application/vnd.jupyter.widget-view+json": {
              "model_id": "",
              "version_major": 2,
              "version_minor": 0
            },
            "text/plain": [
              "Epoch 12/25:   0%|          | 0/1174 [00:00<?, ?it/s]"
            ]
          },
          "metadata": {},
          "output_type": "display_data"
        },
        {
          "name": "stdout",
          "output_type": "stream",
          "text": [
            "Epoch 12/25 | Train Loss: 1.0824 | Train Acc: 59.93% | Val Loss: 1.2276 | Val Acc: 57.38%\n"
          ]
        },
        {
          "data": {
            "application/vnd.jupyter.widget-view+json": {
              "model_id": "",
              "version_major": 2,
              "version_minor": 0
            },
            "text/plain": [
              "Epoch 13/25:   0%|          | 0/1174 [00:00<?, ?it/s]"
            ]
          },
          "metadata": {},
          "output_type": "display_data"
        },
        {
          "name": "stdout",
          "output_type": "stream",
          "text": [
            "Epoch 13/25 | Train Loss: 1.0573 | Train Acc: 60.73% | Val Loss: 1.2540 | Val Acc: 54.00%\n"
          ]
        },
        {
          "data": {
            "application/vnd.jupyter.widget-view+json": {
              "model_id": "",
              "version_major": 2,
              "version_minor": 0
            },
            "text/plain": [
              "Epoch 14/25:   0%|          | 0/1174 [00:00<?, ?it/s]"
            ]
          },
          "metadata": {},
          "output_type": "display_data"
        },
        {
          "name": "stdout",
          "output_type": "stream",
          "text": [
            "Epoch 14/25 | Train Loss: 1.0388 | Train Acc: 61.51% | Val Loss: 1.2536 | Val Acc: 57.25%\n"
          ]
        },
        {
          "data": {
            "application/vnd.jupyter.widget-view+json": {
              "model_id": "",
              "version_major": 2,
              "version_minor": 0
            },
            "text/plain": [
              "Epoch 15/25:   0%|          | 0/1174 [00:00<?, ?it/s]"
            ]
          },
          "metadata": {},
          "output_type": "display_data"
        },
        {
          "name": "stdout",
          "output_type": "stream",
          "text": [
            "Epoch 15/25 | Train Loss: 1.0084 | Train Acc: 62.57% | Val Loss: 1.3019 | Val Acc: 54.62%\n"
          ]
        },
        {
          "data": {
            "application/vnd.jupyter.widget-view+json": {
              "model_id": "",
              "version_major": 2,
              "version_minor": 0
            },
            "text/plain": [
              "Epoch 16/25:   0%|          | 0/1174 [00:00<?, ?it/s]"
            ]
          },
          "metadata": {},
          "output_type": "display_data"
        },
        {
          "name": "stdout",
          "output_type": "stream",
          "text": [
            "Epoch 16/25 | Train Loss: 0.9882 | Train Acc: 63.19% | Val Loss: 1.2884 | Val Acc: 56.75%\n"
          ]
        },
        {
          "data": {
            "application/vnd.jupyter.widget-view+json": {
              "model_id": "",
              "version_major": 2,
              "version_minor": 0
            },
            "text/plain": [
              "Epoch 17/25:   0%|          | 0/1174 [00:00<?, ?it/s]"
            ]
          },
          "metadata": {},
          "output_type": "display_data"
        },
        {
          "name": "stdout",
          "output_type": "stream",
          "text": [
            "Epoch 17/25 | Train Loss: 0.9598 | Train Acc: 64.54% | Val Loss: 1.3214 | Val Acc: 55.62%\n"
          ]
        },
        {
          "data": {
            "application/vnd.jupyter.widget-view+json": {
              "model_id": "",
              "version_major": 2,
              "version_minor": 0
            },
            "text/plain": [
              "Epoch 18/25:   0%|          | 0/1174 [00:00<?, ?it/s]"
            ]
          },
          "metadata": {},
          "output_type": "display_data"
        },
        {
          "name": "stdout",
          "output_type": "stream",
          "text": [
            "Epoch 18/25 | Train Loss: 0.9363 | Train Acc: 65.11% | Val Loss: 1.2929 | Val Acc: 55.12%\n"
          ]
        },
        {
          "data": {
            "application/vnd.jupyter.widget-view+json": {
              "model_id": "",
              "version_major": 2,
              "version_minor": 0
            },
            "text/plain": [
              "Epoch 19/25:   0%|          | 0/1174 [00:00<?, ?it/s]"
            ]
          },
          "metadata": {},
          "output_type": "display_data"
        },
        {
          "name": "stdout",
          "output_type": "stream",
          "text": [
            "Epoch 19/25 | Train Loss: 0.9095 | Train Acc: 66.73% | Val Loss: 1.3815 | Val Acc: 56.38%\n"
          ]
        },
        {
          "data": {
            "application/vnd.jupyter.widget-view+json": {
              "model_id": "",
              "version_major": 2,
              "version_minor": 0
            },
            "text/plain": [
              "Epoch 20/25:   0%|          | 0/1174 [00:00<?, ?it/s]"
            ]
          },
          "metadata": {},
          "output_type": "display_data"
        },
        {
          "name": "stdout",
          "output_type": "stream",
          "text": [
            "Epoch 20/25 | Train Loss: 0.8780 | Train Acc: 67.34% | Val Loss: 1.3159 | Val Acc: 55.25%\n"
          ]
        },
        {
          "data": {
            "application/vnd.jupyter.widget-view+json": {
              "model_id": "",
              "version_major": 2,
              "version_minor": 0
            },
            "text/plain": [
              "Epoch 21/25:   0%|          | 0/1174 [00:00<?, ?it/s]"
            ]
          },
          "metadata": {},
          "output_type": "display_data"
        },
        {
          "name": "stdout",
          "output_type": "stream",
          "text": [
            "Epoch 21/25 | Train Loss: 0.8552 | Train Acc: 68.30% | Val Loss: 1.3301 | Val Acc: 58.62%\n",
            "Model saved at epoch 21 with validation accuracy: 58.62%\n"
          ]
        },
        {
          "data": {
            "application/vnd.jupyter.widget-view+json": {
              "model_id": "",
              "version_major": 2,
              "version_minor": 0
            },
            "text/plain": [
              "Epoch 22/25:   0%|          | 0/1174 [00:00<?, ?it/s]"
            ]
          },
          "metadata": {},
          "output_type": "display_data"
        },
        {
          "name": "stdout",
          "output_type": "stream",
          "text": [
            "Epoch 22/25 | Train Loss: 0.8282 | Train Acc: 69.30% | Val Loss: 1.3282 | Val Acc: 54.62%\n"
          ]
        },
        {
          "data": {
            "application/vnd.jupyter.widget-view+json": {
              "model_id": "",
              "version_major": 2,
              "version_minor": 0
            },
            "text/plain": [
              "Epoch 23/25:   0%|          | 0/1174 [00:00<?, ?it/s]"
            ]
          },
          "metadata": {},
          "output_type": "display_data"
        },
        {
          "name": "stdout",
          "output_type": "stream",
          "text": [
            "Epoch 23/25 | Train Loss: 0.7968 | Train Acc: 70.52% | Val Loss: 1.4937 | Val Acc: 54.50%\n"
          ]
        },
        {
          "data": {
            "application/vnd.jupyter.widget-view+json": {
              "model_id": "",
              "version_major": 2,
              "version_minor": 0
            },
            "text/plain": [
              "Epoch 24/25:   0%|          | 0/1174 [00:00<?, ?it/s]"
            ]
          },
          "metadata": {},
          "output_type": "display_data"
        },
        {
          "name": "stdout",
          "output_type": "stream",
          "text": [
            "Epoch 24/25 | Train Loss: 0.7679 | Train Acc: 71.75% | Val Loss: 1.4318 | Val Acc: 54.25%\n"
          ]
        },
        {
          "data": {
            "application/vnd.jupyter.widget-view+json": {
              "model_id": "6b1f9f73f50143f48d6261539575f3e3",
              "version_major": 2,
              "version_minor": 0
            },
            "text/plain": [
              "Epoch 25/25:   0%|          | 0/1174 [00:00<?, ?it/s]"
            ]
          },
          "metadata": {},
          "output_type": "display_data"
        },
        {
          "name": "stdout",
          "output_type": "stream",
          "text": [
            "Epoch 25/25 | Train Loss: 0.7410 | Train Acc: 72.64% | Val Loss: 1.4326 | Val Acc: 57.00%\n",
            "Finished Training\n"
          ]
        }
      ],
      "source": [
        "import torch\n",
        "import torch.nn as nn\n",
        "import torchvision.models as models\n",
        "from torchvision import transforms, datasets\n",
        "from torch.utils.data import DataLoader\n",
        "import torch.optim as optim\n",
        "import kagglehub\n",
        "import os\n",
        "from tqdm.notebook import tqdm\n",
        "\n",
        "\n",
        "# Download latest version\n",
        "path = kagglehub.dataset_download(\"thienkhonghoc/affectnet\")\n",
        "\n",
        "# print(\"Path to dataset files:\", path)\n",
        "device = torch.device(\"cuda\" if torch.cuda.is_available() else \"cpu\")\n",
        "\n",
        "\n",
        "class CNNFERModel(nn.Module):\n",
        "    def __init__(self, num_classes=8):\n",
        "        super(CNNFERModel, self).__init__()\n",
        "\n",
        "        # load the pre-trained ResNet18 model\n",
        "        # 18 is faster & easier to debug, use 50 later for better accuracy\n",
        "        base_model = models.resnet18(weights=True)\n",
        "\n",
        "        # remove last layer (FC)\n",
        "        # we need to output features, not scores as predictions\n",
        "        self.backbone = nn.Sequential(*list(base_model.children())[:-1])\n",
        "\n",
        "        # custom classification head\n",
        "        self.classifier = nn.Sequential(\n",
        "            # reduce output features to 256\n",
        "            nn.Linear(base_model.fc.in_features, 256),\n",
        "            # add non-linearity to learn complex patterns\n",
        "            nn.ReLU(),\n",
        "            # turn off 30% neurons to prevent overfitting (regularization)\n",
        "            nn.Dropout(0.3),\n",
        "            # map the features to the 7 emotion classes\n",
        "            nn.Linear(256, num_classes)\n",
        "        )\n",
        "\n",
        "    # feed in an img => most important features\n",
        "    # flatten them => returns logits\n",
        "    def forward(self, x):\n",
        "        x = self.backbone(x)       # [B, 512, 1, 1]\n",
        "        x = x.view(x.size(0), -1)  # Flatten\n",
        "        out = self.classifier(x)   # [B, num_classes]\n",
        "        return out\n",
        "\n",
        "# load dataset\n",
        "train_dir = \"~/.cache/kagglehub/datasets/thienkhonghoc/affectnet/versions/3/AffectNet/train\"\n",
        "valid_dir =  \"~/.cache/kagglehub/datasets/thienkhonghoc/affectnet/versions/3/AffectNet/val\"\n",
        "test_dir =  \"~/.cache/kagglehub/datasets/thienkhonghoc/affectnet/versions/3/AffectNet/test\"\n",
        "\n",
        "train_transform = transforms.Compose(\n",
        "    [\n",
        "     transforms.RandomHorizontalFlip(p=0.5),\n",
        "     transforms.RandomRotation(degrees=15),\n",
        "     transforms.ColorJitter(brightness=0.3, contrast=0.3),\n",
        "     transforms.Resize((224, 224)),\n",
        "     transforms.ToTensor(),\n",
        "     transforms.Normalize(mean=[0.485, 0.456, 0.406],\n",
        "                         std=[0.229, 0.224, 0.225])])\n",
        "\n",
        "valid_transform = transforms.Compose(\n",
        "    [transforms.Resize((224, 224)),\n",
        "     transforms.ToTensor(),\n",
        "     transforms.Normalize(mean=[0.485, 0.456, 0.406],\n",
        "                         std=[0.229, 0.224, 0.225])])\n",
        "\n",
        "test_transform = transforms.Compose(\n",
        "    [\n",
        "     transforms.ToTensor(),\n",
        "     transforms.Normalize(mean=[0.485, 0.456, 0.406],\n",
        "                         std=[0.229, 0.224, 0.225])])\n",
        "\n",
        "batch_size = 32\n",
        "\n",
        "train_dataset = datasets.ImageFolder(root=train_dir, transform=train_transform)\n",
        "valid_dataset = datasets.ImageFolder(root=valid_dir, transform=valid_transform)\n",
        "test_dataset = datasets.ImageFolder(root=test_dir, transform=test_transform)\n",
        "\n",
        "trainloader = DataLoader(train_dataset, batch_size=batch_size,\n",
        "                                          shuffle=True, num_workers=0)\n",
        "\n",
        "validloader = DataLoader(valid_dataset, batch_size=batch_size,\n",
        "                                          shuffle=False, num_workers=0)\n",
        "\n",
        "testloader = DataLoader(test_dataset, batch_size=batch_size,\n",
        "                                          shuffle=False, num_workers=0)\n",
        "\n",
        "print(f\"Length of train_dataset: {len(train_dataset)}\")\n",
        "print(f\"Length of trainloader: {len(trainloader)}\")\n",
        "# create model\n",
        "fermodel = CNNFERModel()\n",
        "fermodel.to(device)\n",
        "\n",
        "criterion = nn.CrossEntropyLoss()\n",
        "\n",
        "# use the adam optimizer\n",
        "optimizer = optim.Adam(fermodel.parameters(), lr=0.001)\n",
        "\n",
        "\n",
        "\n",
        "# training loop\n",
        "# training loop\n",
        "best_valid_acc = 0.0\n",
        "try:\n",
        "  for epoch in range(25):\n",
        "      fermodel.train()  # Set model to training mode\n",
        "      running_loss = 0.0\n",
        "      train_correct, train_total = 0, 0\n",
        "\n",
        "      progress_bar = tqdm(trainloader, desc=f\"Epoch {epoch+1}/{25}\", leave=False,mininterval=0.5, miniters=1)\n",
        "\n",
        "      for i, data in enumerate(trainloader):\n",
        "          inputs, labels = data\n",
        "          inputs = inputs.to(device)\n",
        "          labels = labels.to(device)\n",
        "\n",
        "          optimizer.zero_grad()\n",
        "\n",
        "          outputs = fermodel(inputs)\n",
        "          loss = criterion(outputs, labels)\n",
        "          loss.backward()\n",
        "          # update weights\n",
        "          optimizer.step()\n",
        "\n",
        "          running_loss += loss.item()\n",
        "          _, preds = torch.max(outputs, 1)\n",
        "          train_correct += (preds == labels).sum().item()\n",
        "          train_total += labels.size(0)\n",
        "\n",
        "          progress_bar.update(1)\n",
        "\n",
        "\n",
        "      train_acc = 100 * train_correct / train_total\n",
        "      train_loss = running_loss / len(trainloader)\n",
        "\n",
        "      # validation loop\n",
        "      fermodel.eval()  # Set model to evaluation mode\n",
        "      val_loss = 0.0\n",
        "      val_correct, val_total = 0, 0\n",
        "\n",
        "      with torch.no_grad():\n",
        "          for val_inputs, val_labels in validloader:\n",
        "              val_inputs, val_labels = val_inputs.to(device), val_labels.to(device)\n",
        "\n",
        "              val_outputs = fermodel(val_inputs)\n",
        "              val_loss_batch = criterion(val_outputs, val_labels)\n",
        "              val_loss += val_loss_batch.item()\n",
        "\n",
        "              _, predicted = torch.max(val_outputs.data, 1)\n",
        "              val_total += val_labels.size(0)\n",
        "              val_correct += (predicted == val_labels).sum().item()\n",
        "\n",
        "      avg_val_loss = val_loss / len(validloader)\n",
        "      val_accuracy = 100 * val_correct / val_total\n",
        "\n",
        "      # Update tqdm bar with live stats\n",
        "      progress_bar.set_postfix({\n",
        "          'Train Loss': f'{train_loss:.4f}',\n",
        "          'Train Acc': f'{train_acc:.2f}%'\n",
        "      })\n",
        "      progress_bar.close()\n",
        "\n",
        "\n",
        "      print(f\"Epoch {epoch+1}/{25} | Train Loss: {train_loss:.4f} | Train Acc: {train_acc:.2f}% | Val Loss: {avg_val_loss:.4f} | Val Acc: {val_accuracy:.2f}%\")\n",
        "\n",
        "\n",
        "      # save model if validation accuracy is improved\n",
        "      if val_accuracy > best_valid_acc:\n",
        "          best_valid_acc = val_accuracy\n",
        "          torch.save(fermodel.state_dict(), 'cnnmodel_noattention.pth')\n",
        "          print(f\"Model saved at epoch {epoch+1} with validation accuracy: {best_valid_acc:.2f}%\")\n",
        "\n",
        "except Exception as e:\n",
        "    print(f\"An error occurred: {e}\")\n",
        "    import traceback\n",
        "    traceback.print_exc()\n",
        "print('Finished Training')\n"
      ]
    },
    {
      "cell_type": "code",
      "execution_count": null,
      "id": "0d5c9456-ef22-41ba-95a2-9452a8432866",
      "metadata": {
        "colab": {
          "base_uri": "https://localhost:8080/"
        },
        "id": "0d5c9456-ef22-41ba-95a2-9452a8432866",
        "outputId": "6e76791d-8a78-4018-e114-5ff29a17dd71"
      },
      "outputs": [
        {
          "name": "stdout",
          "output_type": "stream",
          "text": [
            "Drive already mounted at /content/drive; to attempt to forcibly remount, call drive.mount(\"/content/drive\", force_remount=True).\n"
          ]
        }
      ],
      "source": [
        "import torch\n",
        "from google.colab import drive\n",
        "drive.mount('/content/drive')\n",
        "\n",
        "model_path = '/content/drive/MyDrive/cnnmodel_noattention.pth'\n",
        "model = torch.load(model_path)"
      ]
    }
  ],
  "metadata": {
    "accelerator": "GPU",
    "colab": {
      "gpuType": "T4",
      "provenance": [],
      "include_colab_link": true
    },
    "kernelspec": {
      "display_name": "Python 3 (ipykernel)",
      "language": "python",
      "name": "python3"
    },
    "language_info": {
      "codemirror_mode": {
        "name": "ipython",
        "version": 3
      },
      "file_extension": ".py",
      "mimetype": "text/x-python",
      "name": "python",
      "nbconvert_exporter": "python",
      "pygments_lexer": "ipython3",
      "version": "3.11.9"
    }
  },
  "nbformat": 4,
  "nbformat_minor": 5
}